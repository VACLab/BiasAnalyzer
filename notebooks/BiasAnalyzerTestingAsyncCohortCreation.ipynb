{
 "cells": [
  {
   "cell_type": "code",
   "execution_count": 1,
   "id": "10a97b84-7514-4bba-aaf2-0a46a44cc5fd",
   "metadata": {},
   "outputs": [],
   "source": [
    "from biasanalyzer.api import BIAS\n",
    "from biasanalyzer.background.threading_utils import BackgroundResult, run_in_background"
   ]
  },
  {
   "cell_type": "code",
   "execution_count": 2,
   "id": "548223ed-8948-461e-b9d6-40a0ec7fc89f",
   "metadata": {
    "tags": []
   },
   "outputs": [
    {
     "name": "stdout",
     "output_type": "stream",
     "text": [
      "no configuration file specified. Call set_config(config_file_path) next to specify configurations\n"
     ]
    }
   ],
   "source": [
    "# create an object of BIAS class\n",
    "bias = BIAS()"
   ]
  },
  {
   "cell_type": "code",
   "execution_count": 3,
   "id": "7d440d9f-c7fa-4ef1-ad66-31274ebef4ea",
   "metadata": {
    "tags": []
   },
   "outputs": [
    {
     "name": "stdout",
     "output_type": "stream",
     "text": [
      "configuration specified in /home/hongyi/BiasAnalyzer/config.yaml loaded successfully\n"
     ]
    }
   ],
   "source": [
    "bias.set_config('/home/hongyi/BiasAnalyzer/config.yaml')"
   ]
  },
  {
   "cell_type": "code",
   "execution_count": 4,
   "id": "283156f8-63da-42a5-bbd7-ee2b7719652c",
   "metadata": {
    "tags": []
   },
   "outputs": [
    {
     "name": "stdout",
     "output_type": "stream",
     "text": [
      "Connected to the OMOP CDM database (read-only).\n",
      "Cohort Definition table created.\n",
      "Cohort table created.\n"
     ]
    }
   ],
   "source": [
    "# the configuration file includes root_omop_cdm_database configuration info with an example shown \n",
    "# in https://github.com/hyi/HealthDataBias/blob/main/tests/assets/config/test_config.yaml\n",
    "bias.set_root_omop()"
   ]
  },
  {
   "cell_type": "code",
   "execution_count": 5,
   "id": "a68f3eaf-92fd-49a2-9768-d685d826fd57",
   "metadata": {
    "tags": []
   },
   "outputs": [
    {
     "name": "stdout",
     "output_type": "stream",
     "text": [
      "[*] Background task started...\n",
      "Baseline cohort creation running in background...\n",
      "template_path: /home/hongyi/BiasAnalyzer/biasanalyzer/sql_templates\n"
     ]
    },
    {
     "data": {
      "application/vnd.jupyter.widget-view+json": {
       "model_id": "b6db954d48fe41ab9e53ff6b6e358fcd",
       "version_major": 2,
       "version_minor": 0
      },
      "text/plain": [
       "Cohort creation:   0%|                                 | 0/3 [00:00<?, ?stage/s]"
      ]
     },
     "metadata": {},
     "output_type": "display_data"
    },
    {
     "name": "stdout",
     "output_type": "stream",
     "text": [
      "configuration specified in /home/hongyi/BiasAnalyzer/tests/assets/cohort_creation/test_cohort_creation_condition_occurrence_config_baseline.yaml loaded successfully\n",
      "Cohort definition inserted successfully.\n",
      "Cohort Young female patients successfully created.\n",
      "[DEBUG] Simulating long-running task with 120 seconds delay...\n",
      "cohort created successfully\n",
      "[✓] Background task completed.\n"
     ]
    }
   ],
   "source": [
    "# Create baseline cohort result holder\n",
    "baseline_result = BackgroundResult()\n",
    "\n",
    "# Start background task to run create_cohort() function for a baseline cohort in a background thread\n",
    "baseline_thread = run_in_background(\n",
    "    bias.create_cohort,\n",
    "    \"Young female patients\",\n",
    "    \"Young female patients\",\n",
    "    '/home/hongyi/BiasAnalyzer/tests/assets/cohort_creation/test_cohort_creation_condition_occurrence_config_baseline.yaml',\n",
    "    \"system\",\n",
    "    result_holder=baseline_result,\n",
    "    delay=120  # simulate 5 minutes delay for async testing\n",
    ")\n",
    "\n",
    "print(\"Baseline cohort creation running in background...\")\n"
   ]
  },
  {
   "cell_type": "code",
   "execution_count": 6,
   "id": "9a52ab5f-57a8-4942-8a03-ec86651e919e",
   "metadata": {
    "tags": []
   },
   "outputs": [
    {
     "name": "stdout",
     "output_type": "stream",
     "text": [
      "[*] Background task started...\n",
      "Study cohort creation running in background...\n"
     ]
    },
    {
     "data": {
      "application/vnd.jupyter.widget-view+json": {
       "model_id": "b14a7bfb88e740cb8bd20f4bacd761c8",
       "version_major": 2,
       "version_minor": 0
      },
      "text/plain": [
       "Cohort creation:   0%|                                 | 0/3 [00:00<?, ?stage/s]"
      ]
     },
     "metadata": {},
     "output_type": "display_data"
    },
    {
     "name": "stdout",
     "output_type": "stream",
     "text": [
      "configuration specified in /home/hongyi/BiasAnalyzer/tests/assets/cohort_creation/test_cohort_creation_condition_occurrence_config_study.yaml loaded successfully\n",
      "Cohort definition inserted successfully.\n",
      "Cohort Young COVID female patients successfully created.\n",
      "[DEBUG] Simulating long-running task with 150 seconds delay...\n",
      "cohort created successfully\n",
      "[✓] Background task completed.\n"
     ]
    }
   ],
   "source": [
    "# Create study cohort result holder\n",
    "study_result = BackgroundResult()\n",
    "\n",
    "# Start background task to run create_cohort() function for a study cohort in a background thread\n",
    "study_thread = run_in_background(\n",
    "    bias.create_cohort,\n",
    "    \"Young COVID female patients\",\n",
    "    \"Young COVID female patients\",\n",
    "    '/home/hongyi/BiasAnalyzer/tests/assets/cohort_creation/test_cohort_creation_condition_occurrence_config_study.yaml',\n",
    "    \"system\",\n",
    "    result_holder=study_result,\n",
    "    delay=150  # simulate 5 minutes delay for async testing\n",
    ")\n",
    "\n",
    "print(\"Study cohort creation running in background...\")"
   ]
  },
  {
   "cell_type": "code",
   "execution_count": 11,
   "id": "11d73a3e-f43a-45f5-bb9c-acf54dc480eb",
   "metadata": {},
   "outputs": [
    {
     "name": "stdout",
     "output_type": "stream",
     "text": [
      "Baseline cohort created with metadata: {'id': 2, 'name': 'Young female patients', 'description': 'Young female patients', 'created_date': datetime.date(2025, 6, 4), 'creation_info': 'WITH ranked_events_condition_occurrence AS ( SELECT person_id, condition_concept_id AS concept_id, condition_start_date AS event_start_date, condition_end_date AS event_end_date, ROW_NUMBER() OVER ( PARTITION BY person_id, condition_concept_id ORDER BY condition_start_date ASC ) AS event_instance FROM condition_occurrence ), ranked_events_drug_exposure AS ( SELECT person_id, drug_concept_id AS concept_id, drug_exposure_start_date AS event_start_date, drug_exposure_end_date AS event_end_date, ROW_NUMBER() OVER ( PARTITION BY person_id, drug_concept_id ORDER BY drug_exposure_start_date ASC ) AS event_instance FROM drug_exposure ), ranked_events_procedure_occurrence AS ( SELECT person_id, procedure_concept_id AS concept_id, procedure_date AS event_start_date, procedure_date AS event_end_date, ROW_NUMBER() OVER ( PARTITION BY person_id, procedure_concept_id ORDER BY procedure_date ASC ) AS event_instance FROM procedure_occurrence ), ranked_events_visit_occurrence AS ( SELECT person_id, visit_concept_id AS concept_id, visit_start_date AS event_start_date, visit_end_date AS event_end_date, ROW_NUMBER() OVER ( PARTITION BY person_id, visit_concept_id ORDER BY visit_start_date ASC ) AS event_instance FROM visit_occurrence ), ranked_events_measurement AS ( SELECT person_id, measurement_concept_id AS concept_id, measurement_date AS event_start_date, measurement_date AS event_end_date, ROW_NUMBER() OVER ( PARTITION BY person_id, measurement_concept_id ORDER BY measurement_date ASC ) AS event_instance FROM measurement ), ranked_events_observation AS ( SELECT person_id, observation_concept_id AS concept_id, observation_date AS event_start_date, observation_date AS event_end_date, ROW_NUMBER() OVER ( PARTITION BY person_id, observation_concept_id ORDER BY observation_date ASC ) AS event_instance FROM observation ), domain_qualifying_events AS ( SELECT person_id FROM person p ), filtered_cohort AS ( SELECT c.person_id, MIN(all_events.event_start_date) AS cohort_start_date, MAX(all_events.event_end_date) AS cohort_end_date FROM domain_qualifying_events c JOIN person p ON c.person_id = p.person_id LEFT JOIN ( SELECT person_id, condition_start_date AS event_start_date, condition_end_date AS event_end_date FROM condition_occurrence UNION ALL SELECT person_id, drug_exposure_start_date AS event_start_date, drug_exposure_end_date AS event_end_date FROM drug_exposure UNION ALL SELECT person_id, procedure_date AS event_start_date, procedure_date AS event_end_date FROM procedure_occurrence UNION ALL SELECT person_id, visit_start_date AS event_start_date, visit_end_date AS event_end_date FROM visit_occurrence UNION ALL SELECT person_id, measurement_date AS event_start_date, measurement_date AS event_end_date FROM measurement UNION ALL SELECT person_id, observation_date AS event_start_date, observation_date AS event_end_date FROM observation ) all_events ON c.person_id = all_events.person_id WHERE 1=1 AND p.gender_concept_id = 8532 AND p.year_of_birth >= 2000 AND p.year_of_birth <= 2020 GROUP BY c.person_id ) SELECT * FROM filtered_cohort f', 'created_by': 'system'}\n",
      "Baseline cohort created with stats: [{'total_count': 12360, 'earliest_start_date': datetime.date(2000, 2, 19), 'latest_start_date': datetime.date(2020, 5, 26), 'earliest_end_date': datetime.date(2002, 7, 20), 'latest_end_date': datetime.date(2020, 5, 27), 'min_duration_days': 0, 'max_duration_days': 7379, 'avg_duration_days': 1192.32, 'median_duration': 296, 'stddev_duration': 1779.19}]\n"
     ]
    }
   ],
   "source": [
    "if baseline_result.ready:\n",
    "    if baseline_result.error:\n",
    "        print(f\"Baseline cohort creation failed: {baseline_result.error}\")\n",
    "    else:\n",
    "        baseline_cohort = baseline_result.value\n",
    "        baseline_cohort_def = baseline_cohort.metadata\n",
    "        print(f\"Baseline cohort created with metadata: {baseline_cohort_def}\")\n",
    "        baseline_cohort_data = baseline_cohort.data\n",
    "        baseline_cohort_stats = baseline_cohort.get_stats()\n",
    "        print(f\"Baseline cohort created with stats: {baseline_cohort_stats}\")\n",
    "else:\n",
    "    print(\"Still creating baseline cohort...\")"
   ]
  },
  {
   "cell_type": "code",
   "execution_count": 12,
   "id": "b1415805-b065-40b8-b2cd-6db6f5f9ca41",
   "metadata": {
    "tags": []
   },
   "outputs": [
    {
     "name": "stdout",
     "output_type": "stream",
     "text": [
      "Study cohort created with metadata: {'id': 1, 'name': 'Young COVID female patients', 'description': 'Young COVID female patients', 'created_date': datetime.date(2025, 6, 4), 'creation_info': 'WITH ranked_events_condition_occurrence AS ( SELECT person_id, condition_concept_id AS concept_id, condition_start_date AS event_start_date, condition_end_date AS event_end_date, ROW_NUMBER() OVER ( PARTITION BY person_id, condition_concept_id ORDER BY condition_start_date ASC ) AS event_instance FROM condition_occurrence ), domain_qualifying_events AS ( (SELECT person_id, event_start_date, event_end_date FROM ranked_events_condition_occurrence WHERE concept_id = 37311061) ), filtered_cohort AS ( SELECT c.person_id, MIN(c.event_start_date) AS cohort_start_date, MAX(c.event_end_date) AS cohort_end_date FROM domain_qualifying_events c JOIN person p ON c.person_id = p.person_id WHERE 1=1 AND p.gender_concept_id = 8532 AND p.year_of_birth >= 2000 AND p.year_of_birth <= 2020 GROUP BY c.person_id ) SELECT * FROM filtered_cohort f', 'created_by': 'system'}\n",
      "Study cohort created with stats: [{'total_count': 10208, 'earliest_start_date': datetime.date(2020, 1, 18), 'latest_start_date': datetime.date(2020, 3, 30), 'earliest_end_date': datetime.date(2020, 2, 7), 'latest_end_date': datetime.date(2020, 5, 3), 'min_duration_days': 8, 'max_duration_days': 37, 'avg_duration_days': 24.25, 'median_duration': 24, 'stddev_duration': 7.2}]\n"
     ]
    }
   ],
   "source": [
    "if study_result.ready:\n",
    "    if study_result.error:\n",
    "        print(f\"Study cohort creation failed: {study_result.error}\")\n",
    "    else:\n",
    "        study_cohort = study_result.value\n",
    "        study_cohort_def = study_cohort.metadata\n",
    "        print(f\"Study cohort created with metadata: {study_cohort_def}\")\n",
    "        study_cohort_data = study_cohort.data\n",
    "        study_cohort_stats = study_cohort.get_stats()\n",
    "        print(f\"Study cohort created with stats: {study_cohort_stats}\")\n",
    "else:\n",
    "    print(\"Still creating study cohort...\")"
   ]
  },
  {
   "cell_type": "code",
   "execution_count": 13,
   "id": "0d03cf95-3c68-4eee-be41-5482dea68b84",
   "metadata": {
    "tags": []
   },
   "outputs": [
    {
     "name": "stdout",
     "output_type": "stream",
     "text": [
      "first 5 patient in baseline cohort data: [{'subject_id': 42583, 'cohort_definition_id': 2, 'cohort_start_date': datetime.date(2020, 4, 26), 'cohort_end_date': datetime.date(2020, 5, 12)}, {'subject_id': 33685, 'cohort_definition_id': 2, 'cohort_start_date': datetime.date(2017, 12, 8), 'cohort_end_date': datetime.date(2020, 5, 10)}, {'subject_id': 74383, 'cohort_definition_id': 2, 'cohort_start_date': datetime.date(2019, 1, 31), 'cohort_end_date': datetime.date(2020, 3, 25)}, {'subject_id': 23986, 'cohort_definition_id': 2, 'cohort_start_date': datetime.date(2019, 6, 15), 'cohort_end_date': datetime.date(2020, 3, 28)}, {'subject_id': 93962, 'cohort_definition_id': 2, 'cohort_start_date': datetime.date(2019, 7, 1), 'cohort_end_date': datetime.date(2020, 5, 15)}]\n",
      "first 5 patient in study cohort data: [{'subject_id': 53949, 'cohort_definition_id': 1, 'cohort_start_date': datetime.date(2020, 2, 28), 'cohort_end_date': datetime.date(2020, 3, 11)}, {'subject_id': 22344, 'cohort_definition_id': 1, 'cohort_start_date': datetime.date(2020, 3, 11), 'cohort_end_date': datetime.date(2020, 4, 13)}, {'subject_id': 80198, 'cohort_definition_id': 1, 'cohort_start_date': datetime.date(2020, 3, 5), 'cohort_end_date': datetime.date(2020, 4, 9)}, {'subject_id': 30052, 'cohort_definition_id': 1, 'cohort_start_date': datetime.date(2020, 3, 6), 'cohort_end_date': datetime.date(2020, 4, 8)}, {'subject_id': 94887, 'cohort_definition_id': 1, 'cohort_start_date': datetime.date(2020, 2, 29), 'cohort_end_date': datetime.date(2020, 3, 24)}]\n",
      "the baseline cohort age stats: [{'total_count': 12360, 'min_age': 0, 'max_age': 25, 'avg_age': 10.71, 'median_age': 11, 'stddev_age': 5.98}]\n",
      "the baseline cohort gender stats: [{'gender': 'female', 'gender_count': 12360, 'probability': 1.0}]\n",
      "the study cohort age stats: [{'total_count': 10208, 'min_age': 0, 'max_age': 24, 'avg_age': 10.94, 'median_age': 11, 'stddev_age': 5.93}]\n",
      "the study cohort gender stats: [{'gender': 'female', 'gender_count': 10208, 'probability': 1.0}]\n",
      "[{'age_hellinger_distance': 0.010623813022853212}, {'gender_hellinger_distance': 0.0}]\n"
     ]
    }
   ],
   "source": [
    "# compare the baseline and user study cohorts\n",
    "if baseline_result.ready and study_result.ready:\n",
    "    print(f\"first 5 patient in baseline cohort data: {baseline_cohort_data[:5]}\")\n",
    "    print(f\"first 5 patient in study cohort data: {study_cohort_data[:5]}\")\n",
    "    baseline_cohort_age_stats = baseline_cohort.get_stats(\"age\")\n",
    "    print(f'the baseline cohort age stats: {baseline_cohort_age_stats}')\n",
    "    baseline_cohort_gender_stats = baseline_cohort.get_stats(\"gender\")\n",
    "    print(f'the baseline cohort gender stats: {baseline_cohort_gender_stats}')\n",
    "    study_cohort_age_stats = study_cohort.get_stats(\"age\")\n",
    "    print(f'the study cohort age stats: {study_cohort_age_stats}')\n",
    "    study_cohort_gender_stats = study_cohort.get_stats(\"gender\")\n",
    "    print(f'the study cohort gender stats: {study_cohort_gender_stats}')\n",
    "    result = bias.compare_cohorts(1, 2)\n",
    "    print(result)"
   ]
  },
  {
   "cell_type": "code",
   "execution_count": 14,
   "id": "128c7b02-faef-4a35-97a6-c92baa5a37dd",
   "metadata": {},
   "outputs": [
    {
     "name": "stdout",
     "output_type": "stream",
     "text": [
      "Connection to BiasDatabase closed.\n",
      "Connection to the OMOP CDM database closed.\n"
     ]
    }
   ],
   "source": [
    "bias.cleanup()"
   ]
  },
  {
   "cell_type": "code",
   "execution_count": null,
   "id": "2a6c2d12-91b6-4074-8565-6ff2f61f2f00",
   "metadata": {},
   "outputs": [],
   "source": []
  }
 ],
 "metadata": {
  "kernelspec": {
   "display_name": "Python (biasanalyzer)",
   "language": "python",
   "name": "biasanalyzer-py3.8"
  },
  "language_info": {
   "codemirror_mode": {
    "name": "ipython",
    "version": 3
   },
   "file_extension": ".py",
   "mimetype": "text/x-python",
   "name": "python",
   "nbconvert_exporter": "python",
   "pygments_lexer": "ipython3",
   "version": "3.8.10"
  }
 },
 "nbformat": 4,
 "nbformat_minor": 5
}
