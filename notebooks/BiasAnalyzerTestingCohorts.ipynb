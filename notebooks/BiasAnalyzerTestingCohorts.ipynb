{
 "cells": [
  {
   "cell_type": "code",
   "execution_count": 1,
   "id": "a25ba48a-9e2c-4e1d-9e93-80f7ea3ff3e3",
   "metadata": {
    "tags": []
   },
   "outputs": [
    {
     "name": "stdout",
     "output_type": "stream",
     "text": [
      "Collecting git+https://github.com/vaclab/BiasAnalyzer.git\n",
      "  Cloning https://github.com/vaclab/BiasAnalyzer.git to ./temp/pip-req-build-sqm_zvhy\n",
      "  Running command git clone --filter=blob:none --quiet https://github.com/vaclab/BiasAnalyzer.git /home/hyi/temp/pip-req-build-sqm_zvhy\n",
      "  Resolved https://github.com/vaclab/BiasAnalyzer.git to commit 8d821839e93b1d9a208c5c66352ee66db60d1e53\n",
      "  Installing build dependencies ... \u001B[?25ldone\n",
      "\u001B[?25h  Getting requirements to build wheel ... \u001B[?25ldone\n",
      "\u001B[?25h  Preparing metadata (pyproject.toml) ... \u001B[?25ldone\n",
      "\u001B[?25hCollecting duckdb<2.0.0,>=1.1.1 (from biasanalyzer==0.1.0)\n",
      "  Obtaining dependency information for duckdb<2.0.0,>=1.1.1 from https://files.pythonhosted.org/packages/50/52/6e6f5b5b07841cec334ca6b98f2e02b7bb54ab3b99c49aa3a161cc0b4b37/duckdb-1.2.1-cp311-cp311-manylinux_2_17_x86_64.manylinux2014_x86_64.whl.metadata\n",
      "  Using cached duckdb-1.2.1-cp311-cp311-manylinux_2_17_x86_64.manylinux2014_x86_64.whl.metadata (966 bytes)\n",
      "Collecting duckdb-engine<0.14.0,>=0.13.2 (from biasanalyzer==0.1.0)\n",
      "  Obtaining dependency information for duckdb-engine<0.14.0,>=0.13.2 from https://files.pythonhosted.org/packages/ef/5d/81a0d67483d0767e4fbf7444b079b3f21574a184b0888782ced1c2172777/duckdb_engine-0.13.6-py3-none-any.whl.metadata\n",
      "  Using cached duckdb_engine-0.13.6-py3-none-any.whl.metadata (8.0 kB)\n",
      "Collecting ipytree<0.3.0,>=0.2.2 (from biasanalyzer==0.1.0)\n",
      "  Obtaining dependency information for ipytree<0.3.0,>=0.2.2 from https://files.pythonhosted.org/packages/e4/03/35cf1742598d784e96153175233318a2332f71863e55ad1007c9264c1a7a/ipytree-0.2.2-py2.py3-none-any.whl.metadata\n",
      "  Using cached ipytree-0.2.2-py2.py3-none-any.whl.metadata (849 bytes)\n",
      "Collecting ipywidgets<9.0.0,>=8.1.5 (from biasanalyzer==0.1.0)\n",
      "  Obtaining dependency information for ipywidgets<9.0.0,>=8.1.5 from https://files.pythonhosted.org/packages/22/2d/9c0b76f2f9cc0ebede1b9371b6f317243028ed60b90705863d493bae622e/ipywidgets-8.1.5-py3-none-any.whl.metadata\n",
      "  Using cached ipywidgets-8.1.5-py3-none-any.whl.metadata (2.3 kB)\n",
      "Collecting jinja2==3.1.5 (from biasanalyzer==0.1.0)\n",
      "  Obtaining dependency information for jinja2==3.1.5 from https://files.pythonhosted.org/packages/bd/0f/2ba5fbcd631e3e88689309dbe978c5769e883e4b84ebfe7da30b43275c5a/jinja2-3.1.5-py3-none-any.whl.metadata\n",
      "  Using cached jinja2-3.1.5-py3-none-any.whl.metadata (2.6 kB)\n",
      "Collecting numpy==1.24.4 (from biasanalyzer==0.1.0)\n",
      "  Obtaining dependency information for numpy==1.24.4 from https://files.pythonhosted.org/packages/22/97/dfb1a31bb46686f09e68ea6ac5c63fdee0d22d7b23b8f3f7ea07712869ef/numpy-1.24.4-cp311-cp311-manylinux_2_17_x86_64.manylinux2014_x86_64.whl.metadata\n",
      "  Using cached numpy-1.24.4-cp311-cp311-manylinux_2_17_x86_64.manylinux2014_x86_64.whl.metadata (5.6 kB)\n",
      "Collecting pandas==2.0.3 (from biasanalyzer==0.1.0)\n",
      "  Obtaining dependency information for pandas==2.0.3 from https://files.pythonhosted.org/packages/d0/28/88b81881c056376254618fad622a5e94b5126db8c61157ea1910cd1c040a/pandas-2.0.3-cp311-cp311-manylinux_2_17_x86_64.manylinux2014_x86_64.whl.metadata\n",
      "  Using cached pandas-2.0.3-cp311-cp311-manylinux_2_17_x86_64.manylinux2014_x86_64.whl.metadata (18 kB)\n",
      "Collecting psycopg2<3.0.0,>=2.9.1 (from biasanalyzer==0.1.0)\n",
      "  Using cached psycopg2-2.9.10-cp311-cp311-linux_x86_64.whl\n",
      "Collecting pydantic<3.0.0,>=2.9.2 (from biasanalyzer==0.1.0)\n",
      "  Obtaining dependency information for pydantic<3.0.0,>=2.9.2 from https://files.pythonhosted.org/packages/f4/3c/8cc1cc84deffa6e25d2d0c688ebb80635dfdbf1dbea3e30c541c8cf4d860/pydantic-2.10.6-py3-none-any.whl.metadata\n",
      "  Using cached pydantic-2.10.6-py3-none-any.whl.metadata (30 kB)\n",
      "Collecting pyyaml<7.0.0,>=6.0.2 (from biasanalyzer==0.1.0)\n",
      "  Obtaining dependency information for pyyaml<7.0.0,>=6.0.2 from https://files.pythonhosted.org/packages/75/e4/2c27590dfc9992f73aabbeb9241ae20220bd9452df27483b6e56d3975cc5/PyYAML-6.0.2-cp311-cp311-manylinux_2_17_x86_64.manylinux2014_x86_64.whl.metadata\n",
      "  Using cached PyYAML-6.0.2-cp311-cp311-manylinux_2_17_x86_64.manylinux2014_x86_64.whl.metadata (2.1 kB)\n",
      "Collecting scipy==1.10.1 (from biasanalyzer==0.1.0)\n",
      "  Obtaining dependency information for scipy==1.10.1 from https://files.pythonhosted.org/packages/21/cd/fe2d4af234b80dc08c911ce63fdaee5badcdde3e9bcd9a68884580652ef0/scipy-1.10.1-cp311-cp311-manylinux_2_17_x86_64.manylinux2014_x86_64.whl.metadata\n",
      "  Using cached scipy-1.10.1-cp311-cp311-manylinux_2_17_x86_64.manylinux2014_x86_64.whl.metadata (58 kB)\n",
      "Collecting sqlalchemy<3.0.0,>=2.0.35 (from biasanalyzer==0.1.0)\n",
      "  Obtaining dependency information for sqlalchemy<3.0.0,>=2.0.35 from https://files.pythonhosted.org/packages/ff/0a/46f3171f564a19a1daf6e7e0e6c8afc6ecd792f947c6de435519d4d16af3/sqlalchemy-2.0.39-cp311-cp311-manylinux_2_17_x86_64.manylinux2014_x86_64.whl.metadata\n",
      "  Using cached sqlalchemy-2.0.39-cp311-cp311-manylinux_2_17_x86_64.manylinux2014_x86_64.whl.metadata (9.6 kB)\n",
      "Collecting MarkupSafe>=2.0 (from jinja2==3.1.5->biasanalyzer==0.1.0)\n",
      "  Obtaining dependency information for MarkupSafe>=2.0 from https://files.pythonhosted.org/packages/f1/a4/aefb044a2cd8d7334c8a47d3fb2c9f328ac48cb349468cc31c20b539305f/MarkupSafe-3.0.2-cp311-cp311-manylinux_2_17_x86_64.manylinux2014_x86_64.whl.metadata\n",
      "  Using cached MarkupSafe-3.0.2-cp311-cp311-manylinux_2_17_x86_64.manylinux2014_x86_64.whl.metadata (4.0 kB)\n",
      "Collecting python-dateutil>=2.8.2 (from pandas==2.0.3->biasanalyzer==0.1.0)\n",
      "  Obtaining dependency information for python-dateutil>=2.8.2 from https://files.pythonhosted.org/packages/ec/57/56b9bcc3c9c6a792fcbaf139543cee77261f3651ca9da0c93f5c1221264b/python_dateutil-2.9.0.post0-py2.py3-none-any.whl.metadata\n",
      "  Using cached python_dateutil-2.9.0.post0-py2.py3-none-any.whl.metadata (8.4 kB)\n",
      "Collecting pytz>=2020.1 (from pandas==2.0.3->biasanalyzer==0.1.0)\n",
      "  Obtaining dependency information for pytz>=2020.1 from https://files.pythonhosted.org/packages/eb/38/ac33370d784287baa1c3d538978b5e2ea064d4c1b93ffbd12826c190dd10/pytz-2025.1-py2.py3-none-any.whl.metadata\n",
      "  Using cached pytz-2025.1-py2.py3-none-any.whl.metadata (22 kB)\n",
      "Collecting tzdata>=2022.1 (from pandas==2.0.3->biasanalyzer==0.1.0)\n",
      "  Obtaining dependency information for tzdata>=2022.1 from https://files.pythonhosted.org/packages/0f/dd/84f10e23edd882c6f968c21c2434fe67bd4a528967067515feca9e611e5e/tzdata-2025.1-py2.py3-none-any.whl.metadata\n",
      "  Using cached tzdata-2025.1-py2.py3-none-any.whl.metadata (1.4 kB)\n",
      "Collecting packaging>=21 (from duckdb-engine<0.14.0,>=0.13.2->biasanalyzer==0.1.0)\n",
      "  Obtaining dependency information for packaging>=21 from https://files.pythonhosted.org/packages/88/ef/eb23f262cca3c0c4eb7ab1933c3b1f03d021f2c48f54763065b6f0e321be/packaging-24.2-py3-none-any.whl.metadata\n",
      "  Using cached packaging-24.2-py3-none-any.whl.metadata (3.2 kB)\n",
      "Collecting comm>=0.1.3 (from ipywidgets<9.0.0,>=8.1.5->biasanalyzer==0.1.0)\n",
      "  Obtaining dependency information for comm>=0.1.3 from https://files.pythonhosted.org/packages/e6/75/49e5bfe642f71f272236b5b2d2691cf915a7283cc0ceda56357b61daa538/comm-0.2.2-py3-none-any.whl.metadata\n",
      "  Using cached comm-0.2.2-py3-none-any.whl.metadata (3.7 kB)\n",
      "Collecting ipython>=6.1.0 (from ipywidgets<9.0.0,>=8.1.5->biasanalyzer==0.1.0)\n",
      "  Obtaining dependency information for ipython>=6.1.0 from https://files.pythonhosted.org/packages/20/3a/917cb9e72f4e1a4ea13c862533205ae1319bd664119189ee5cc9e4e95ebf/ipython-9.0.2-py3-none-any.whl.metadata\n",
      "  Using cached ipython-9.0.2-py3-none-any.whl.metadata (4.3 kB)\n",
      "Collecting traitlets>=4.3.1 (from ipywidgets<9.0.0,>=8.1.5->biasanalyzer==0.1.0)\n",
      "  Obtaining dependency information for traitlets>=4.3.1 from https://files.pythonhosted.org/packages/00/c0/8f5d070730d7836adc9c9b6408dec68c6ced86b304a9b26a14df072a6e8c/traitlets-5.14.3-py3-none-any.whl.metadata\n",
      "  Using cached traitlets-5.14.3-py3-none-any.whl.metadata (10 kB)\n",
      "Collecting widgetsnbextension~=4.0.12 (from ipywidgets<9.0.0,>=8.1.5->biasanalyzer==0.1.0)\n",
      "  Obtaining dependency information for widgetsnbextension~=4.0.12 from https://files.pythonhosted.org/packages/21/02/88b65cc394961a60c43c70517066b6b679738caf78506a5da7b88ffcb643/widgetsnbextension-4.0.13-py3-none-any.whl.metadata\n",
      "  Using cached widgetsnbextension-4.0.13-py3-none-any.whl.metadata (1.6 kB)\n",
      "Collecting jupyterlab-widgets~=3.0.12 (from ipywidgets<9.0.0,>=8.1.5->biasanalyzer==0.1.0)\n",
      "  Obtaining dependency information for jupyterlab-widgets~=3.0.12 from https://files.pythonhosted.org/packages/a9/93/858e87edc634d628e5d752ba944c2833133a28fa87bb093e6832ced36a3e/jupyterlab_widgets-3.0.13-py3-none-any.whl.metadata\n",
      "  Using cached jupyterlab_widgets-3.0.13-py3-none-any.whl.metadata (4.1 kB)\n",
      "Collecting annotated-types>=0.6.0 (from pydantic<3.0.0,>=2.9.2->biasanalyzer==0.1.0)\n",
      "  Obtaining dependency information for annotated-types>=0.6.0 from https://files.pythonhosted.org/packages/78/b6/6307fbef88d9b5ee7421e68d78a9f162e0da4900bc5f5793f6d3d0e34fb8/annotated_types-0.7.0-py3-none-any.whl.metadata\n",
      "  Using cached annotated_types-0.7.0-py3-none-any.whl.metadata (15 kB)\n",
      "Collecting pydantic-core==2.27.2 (from pydantic<3.0.0,>=2.9.2->biasanalyzer==0.1.0)\n",
      "  Obtaining dependency information for pydantic-core==2.27.2 from https://files.pythonhosted.org/packages/a8/7c/b860618c25678bbd6d1d99dbdfdf0510ccb50790099b963ff78a124b754f/pydantic_core-2.27.2-cp311-cp311-manylinux_2_17_x86_64.manylinux2014_x86_64.whl.metadata\n",
      "  Using cached pydantic_core-2.27.2-cp311-cp311-manylinux_2_17_x86_64.manylinux2014_x86_64.whl.metadata (6.6 kB)\n",
      "Collecting typing-extensions>=4.12.2 (from pydantic<3.0.0,>=2.9.2->biasanalyzer==0.1.0)\n",
      "  Obtaining dependency information for typing-extensions>=4.12.2 from https://files.pythonhosted.org/packages/26/9f/ad63fc0248c5379346306f8668cda6e2e2e9c95e01216d2b8ffd9ff037d0/typing_extensions-4.12.2-py3-none-any.whl.metadata\n",
      "  Using cached typing_extensions-4.12.2-py3-none-any.whl.metadata (3.0 kB)\n",
      "Collecting greenlet!=0.4.17 (from sqlalchemy<3.0.0,>=2.0.35->biasanalyzer==0.1.0)\n",
      "  Obtaining dependency information for greenlet!=0.4.17 from https://files.pythonhosted.org/packages/f7/4b/1c9695aa24f808e156c8f4813f685d975ca73c000c2a5056c514c64980f6/greenlet-3.1.1-cp311-cp311-manylinux_2_24_x86_64.manylinux_2_28_x86_64.whl.metadata\n",
      "  Using cached greenlet-3.1.1-cp311-cp311-manylinux_2_24_x86_64.manylinux_2_28_x86_64.whl.metadata (3.8 kB)\n",
      "Collecting decorator (from ipython>=6.1.0->ipywidgets<9.0.0,>=8.1.5->biasanalyzer==0.1.0)\n",
      "  Obtaining dependency information for decorator from https://files.pythonhosted.org/packages/4e/8c/f3147f5c4b73e7550fe5f9352eaa956ae838d5c51eb58e7a25b9f3e2643b/decorator-5.2.1-py3-none-any.whl.metadata\n",
      "  Using cached decorator-5.2.1-py3-none-any.whl.metadata (3.9 kB)\n",
      "Collecting ipython-pygments-lexers (from ipython>=6.1.0->ipywidgets<9.0.0,>=8.1.5->biasanalyzer==0.1.0)\n",
      "  Obtaining dependency information for ipython-pygments-lexers from https://files.pythonhosted.org/packages/d9/33/1f075bf72b0b747cb3288d011319aaf64083cf2efef8354174e3ed4540e2/ipython_pygments_lexers-1.1.1-py3-none-any.whl.metadata\n",
      "  Using cached ipython_pygments_lexers-1.1.1-py3-none-any.whl.metadata (1.1 kB)\n",
      "Collecting jedi>=0.16 (from ipython>=6.1.0->ipywidgets<9.0.0,>=8.1.5->biasanalyzer==0.1.0)\n",
      "  Obtaining dependency information for jedi>=0.16 from https://files.pythonhosted.org/packages/c0/5a/9cac0c82afec3d09ccd97c8b6502d48f165f9124db81b4bcb90b4af974ee/jedi-0.19.2-py2.py3-none-any.whl.metadata\n",
      "  Using cached jedi-0.19.2-py2.py3-none-any.whl.metadata (22 kB)\n",
      "Collecting matplotlib-inline (from ipython>=6.1.0->ipywidgets<9.0.0,>=8.1.5->biasanalyzer==0.1.0)\n",
      "  Obtaining dependency information for matplotlib-inline from https://files.pythonhosted.org/packages/8f/8e/9ad090d3553c280a8060fbf6e24dc1c0c29704ee7d1c372f0c174aa59285/matplotlib_inline-0.1.7-py3-none-any.whl.metadata\n",
      "  Using cached matplotlib_inline-0.1.7-py3-none-any.whl.metadata (3.9 kB)\n",
      "Collecting pexpect>4.3 (from ipython>=6.1.0->ipywidgets<9.0.0,>=8.1.5->biasanalyzer==0.1.0)\n",
      "  Obtaining dependency information for pexpect>4.3 from https://files.pythonhosted.org/packages/9e/c3/059298687310d527a58bb01f3b1965787ee3b40dce76752eda8b44e9a2c5/pexpect-4.9.0-py2.py3-none-any.whl.metadata\n",
      "  Using cached pexpect-4.9.0-py2.py3-none-any.whl.metadata (2.5 kB)\n",
      "Collecting prompt_toolkit<3.1.0,>=3.0.41 (from ipython>=6.1.0->ipywidgets<9.0.0,>=8.1.5->biasanalyzer==0.1.0)\n",
      "  Obtaining dependency information for prompt_toolkit<3.1.0,>=3.0.41 from https://files.pythonhosted.org/packages/e4/ea/d836f008d33151c7a1f62caf3d8dd782e4d15f6a43897f64480c2b8de2ad/prompt_toolkit-3.0.50-py3-none-any.whl.metadata\n",
      "  Using cached prompt_toolkit-3.0.50-py3-none-any.whl.metadata (6.6 kB)\n",
      "Collecting pygments>=2.4.0 (from ipython>=6.1.0->ipywidgets<9.0.0,>=8.1.5->biasanalyzer==0.1.0)\n",
      "  Obtaining dependency information for pygments>=2.4.0 from https://files.pythonhosted.org/packages/8a/0b/9fcc47d19c48b59121088dd6da2488a49d5f72dacf8262e2790a1d2c7d15/pygments-2.19.1-py3-none-any.whl.metadata\n",
      "  Using cached pygments-2.19.1-py3-none-any.whl.metadata (2.5 kB)\n",
      "Collecting stack_data (from ipython>=6.1.0->ipywidgets<9.0.0,>=8.1.5->biasanalyzer==0.1.0)\n",
      "  Obtaining dependency information for stack_data from https://files.pythonhosted.org/packages/f1/7b/ce1eafaf1a76852e2ec9b22edecf1daa58175c090266e9f6c64afcd81d91/stack_data-0.6.3-py3-none-any.whl.metadata\n",
      "  Using cached stack_data-0.6.3-py3-none-any.whl.metadata (18 kB)\n",
      "Collecting six>=1.5 (from python-dateutil>=2.8.2->pandas==2.0.3->biasanalyzer==0.1.0)\n",
      "  Obtaining dependency information for six>=1.5 from https://files.pythonhosted.org/packages/b7/ce/149a00dd41f10bc29e5921b496af8b574d8413afcd5e30dfa0ed46c2cc5e/six-1.17.0-py2.py3-none-any.whl.metadata\n",
      "  Using cached six-1.17.0-py2.py3-none-any.whl.metadata (1.7 kB)\n",
      "Collecting parso<0.9.0,>=0.8.4 (from jedi>=0.16->ipython>=6.1.0->ipywidgets<9.0.0,>=8.1.5->biasanalyzer==0.1.0)\n",
      "  Obtaining dependency information for parso<0.9.0,>=0.8.4 from https://files.pythonhosted.org/packages/c6/ac/dac4a63f978e4dcb3c6d3a78c4d8e0192a113d288502a1216950c41b1027/parso-0.8.4-py2.py3-none-any.whl.metadata\n",
      "  Using cached parso-0.8.4-py2.py3-none-any.whl.metadata (7.7 kB)\n",
      "Collecting ptyprocess>=0.5 (from pexpect>4.3->ipython>=6.1.0->ipywidgets<9.0.0,>=8.1.5->biasanalyzer==0.1.0)\n",
      "  Obtaining dependency information for ptyprocess>=0.5 from https://files.pythonhosted.org/packages/22/a6/858897256d0deac81a172289110f31629fc4cee19b6f01283303e18c8db3/ptyprocess-0.7.0-py2.py3-none-any.whl.metadata\n",
      "  Using cached ptyprocess-0.7.0-py2.py3-none-any.whl.metadata (1.3 kB)\n",
      "Collecting wcwidth (from prompt_toolkit<3.1.0,>=3.0.41->ipython>=6.1.0->ipywidgets<9.0.0,>=8.1.5->biasanalyzer==0.1.0)\n",
      "  Obtaining dependency information for wcwidth from https://files.pythonhosted.org/packages/fd/84/fd2ba7aafacbad3c4201d395674fc6348826569da3c0937e75505ead3528/wcwidth-0.2.13-py2.py3-none-any.whl.metadata\n",
      "  Using cached wcwidth-0.2.13-py2.py3-none-any.whl.metadata (14 kB)\n",
      "Collecting executing>=1.2.0 (from stack_data->ipython>=6.1.0->ipywidgets<9.0.0,>=8.1.5->biasanalyzer==0.1.0)\n",
      "  Obtaining dependency information for executing>=1.2.0 from https://files.pythonhosted.org/packages/7b/8f/c4d9bafc34ad7ad5d8dc16dd1347ee0e507a52c3adb6bfa8887e1c6a26ba/executing-2.2.0-py2.py3-none-any.whl.metadata\n",
      "  Using cached executing-2.2.0-py2.py3-none-any.whl.metadata (8.9 kB)\n",
      "Collecting asttokens>=2.1.0 (from stack_data->ipython>=6.1.0->ipywidgets<9.0.0,>=8.1.5->biasanalyzer==0.1.0)\n",
      "  Obtaining dependency information for asttokens>=2.1.0 from https://files.pythonhosted.org/packages/25/8a/c46dcc25341b5bce5472c718902eb3d38600a903b14fa6aeecef3f21a46f/asttokens-3.0.0-py3-none-any.whl.metadata\n",
      "  Using cached asttokens-3.0.0-py3-none-any.whl.metadata (4.7 kB)\n",
      "Collecting pure-eval (from stack_data->ipython>=6.1.0->ipywidgets<9.0.0,>=8.1.5->biasanalyzer==0.1.0)\n",
      "  Obtaining dependency information for pure-eval from https://files.pythonhosted.org/packages/8e/37/efad0257dc6e593a18957422533ff0f87ede7c9c6ea010a2177d738fb82f/pure_eval-0.2.3-py3-none-any.whl.metadata\n",
      "  Using cached pure_eval-0.2.3-py3-none-any.whl.metadata (6.3 kB)\n",
      "Using cached jinja2-3.1.5-py3-none-any.whl (134 kB)\n",
      "Using cached numpy-1.24.4-cp311-cp311-manylinux_2_17_x86_64.manylinux2014_x86_64.whl (17.3 MB)\n",
      "Using cached pandas-2.0.3-cp311-cp311-manylinux_2_17_x86_64.manylinux2014_x86_64.whl (12.2 MB)\n",
      "Using cached scipy-1.10.1-cp311-cp311-manylinux_2_17_x86_64.manylinux2014_x86_64.whl (34.1 MB)\n",
      "Using cached duckdb-1.2.1-cp311-cp311-manylinux_2_17_x86_64.manylinux2014_x86_64.whl (20.2 MB)\n",
      "Using cached duckdb_engine-0.13.6-py3-none-any.whl (48 kB)\n",
      "Using cached ipytree-0.2.2-py2.py3-none-any.whl (1.3 MB)\n",
      "Using cached ipywidgets-8.1.5-py3-none-any.whl (139 kB)\n",
      "Using cached pydantic-2.10.6-py3-none-any.whl (431 kB)\n",
      "Using cached pydantic_core-2.27.2-cp311-cp311-manylinux_2_17_x86_64.manylinux2014_x86_64.whl (2.0 MB)\n",
      "Using cached PyYAML-6.0.2-cp311-cp311-manylinux_2_17_x86_64.manylinux2014_x86_64.whl (762 kB)\n",
      "Using cached sqlalchemy-2.0.39-cp311-cp311-manylinux_2_17_x86_64.manylinux2014_x86_64.whl (3.2 MB)\n",
      "Using cached annotated_types-0.7.0-py3-none-any.whl (13 kB)\n",
      "Using cached comm-0.2.2-py3-none-any.whl (7.2 kB)\n",
      "Using cached greenlet-3.1.1-cp311-cp311-manylinux_2_24_x86_64.manylinux_2_28_x86_64.whl (602 kB)\n",
      "Using cached ipython-9.0.2-py3-none-any.whl (600 kB)\n",
      "Using cached jupyterlab_widgets-3.0.13-py3-none-any.whl (214 kB)\n",
      "Using cached MarkupSafe-3.0.2-cp311-cp311-manylinux_2_17_x86_64.manylinux2014_x86_64.whl (23 kB)\n",
      "Using cached packaging-24.2-py3-none-any.whl (65 kB)\n",
      "Using cached python_dateutil-2.9.0.post0-py2.py3-none-any.whl (229 kB)\n",
      "Using cached pytz-2025.1-py2.py3-none-any.whl (507 kB)\n",
      "Using cached traitlets-5.14.3-py3-none-any.whl (85 kB)\n",
      "Using cached typing_extensions-4.12.2-py3-none-any.whl (37 kB)\n",
      "Using cached tzdata-2025.1-py2.py3-none-any.whl (346 kB)\n",
      "Using cached widgetsnbextension-4.0.13-py3-none-any.whl (2.3 MB)\n",
      "Using cached jedi-0.19.2-py2.py3-none-any.whl (1.6 MB)\n",
      "Using cached pexpect-4.9.0-py2.py3-none-any.whl (63 kB)\n",
      "Using cached prompt_toolkit-3.0.50-py3-none-any.whl (387 kB)\n",
      "Using cached pygments-2.19.1-py3-none-any.whl (1.2 MB)\n",
      "Using cached six-1.17.0-py2.py3-none-any.whl (11 kB)\n",
      "Using cached decorator-5.2.1-py3-none-any.whl (9.2 kB)\n",
      "Using cached ipython_pygments_lexers-1.1.1-py3-none-any.whl (8.1 kB)\n",
      "Using cached matplotlib_inline-0.1.7-py3-none-any.whl (9.9 kB)\n",
      "Using cached stack_data-0.6.3-py3-none-any.whl (24 kB)\n",
      "Using cached asttokens-3.0.0-py3-none-any.whl (26 kB)\n",
      "Using cached executing-2.2.0-py2.py3-none-any.whl (26 kB)\n",
      "Using cached parso-0.8.4-py2.py3-none-any.whl (103 kB)\n",
      "Using cached ptyprocess-0.7.0-py2.py3-none-any.whl (13 kB)\n",
      "Using cached pure_eval-0.2.3-py3-none-any.whl (11 kB)\n",
      "Using cached wcwidth-0.2.13-py2.py3-none-any.whl (34 kB)\n",
      "Building wheels for collected packages: biasanalyzer\n",
      "  Building wheel for biasanalyzer (pyproject.toml) ... \u001B[?25ldone\n",
      "\u001B[?25h  Created wheel for biasanalyzer: filename=biasanalyzer-0.1.0-py3-none-any.whl size=25475 sha256=1982c82749337f81db1a730b8cc25c049d0c0788cd6b782f69ce8be1d92a397c\n",
      "  Stored in directory: /home/hyi/temp/pip-ephem-wheel-cache-7pwouolk/wheels/25/75/4e/079d96d69cc58148ce31d3d44f858e4db5f689604112dcb7c3\n",
      "Successfully built biasanalyzer\n",
      "Installing collected packages: wcwidth, pytz, pure-eval, ptyprocess, widgetsnbextension, tzdata, typing-extensions, traitlets, six, pyyaml, pygments, psycopg2, prompt_toolkit, pexpect, parso, packaging, numpy, MarkupSafe, jupyterlab-widgets, greenlet, executing, duckdb, decorator, asttokens, annotated-types, stack_data, sqlalchemy, scipy, python-dateutil, pydantic-core, matplotlib-inline, jinja2, jedi, ipython-pygments-lexers, comm, pydantic, pandas, ipython, duckdb-engine, ipywidgets, ipytree, biasanalyzer\n",
      "\u001B[31mERROR: pip's dependency resolver does not currently take into account all the packages that are installed. This behaviour is the source of the following dependency conflicts.\n",
      "ipympl 0.9.3 requires ipython<9, but you have ipython 9.0.2 which is incompatible.\u001B[0m\u001B[31m\n",
      "\u001B[0mSuccessfully installed MarkupSafe-3.0.2 annotated-types-0.7.0 asttokens-3.0.0 biasanalyzer-0.1.0 comm-0.2.2 decorator-5.2.1 duckdb-1.2.1 duckdb-engine-0.13.6 executing-2.2.0 greenlet-3.1.1 ipython-9.0.2 ipython-pygments-lexers-1.1.1 ipytree-0.2.2 ipywidgets-8.1.5 jedi-0.19.2 jinja2-3.1.5 jupyterlab-widgets-3.0.13 matplotlib-inline-0.1.7 numpy-1.24.4 packaging-24.2 pandas-2.0.3 parso-0.8.4 pexpect-4.9.0 prompt_toolkit-3.0.50 psycopg2-2.9.10 ptyprocess-0.7.0 pure-eval-0.2.3 pydantic-2.10.6 pydantic-core-2.27.2 pygments-2.19.1 python-dateutil-2.9.0.post0 pytz-2025.1 pyyaml-6.0.2 scipy-1.10.1 six-1.17.0 sqlalchemy-2.0.39 stack_data-0.6.3 traitlets-5.14.3 typing-extensions-4.12.2 tzdata-2025.1 wcwidth-0.2.13 widgetsnbextension-4.0.13\n",
      "Requirement already satisfied: typing-extensions in /opt/conda/lib/python3.11/site-packages (4.12.2)\n"
     ]
    }
   ],
   "source": [
    "# Have to specify TMPDIR and target in pip install command to work around the kernel crash issue due to \n",
    "# the small ephemeral local storage quota allocated to /tmp which is used by default by pip install\n",
    "!TMPDIR=/home/hyi/temp pip install git+https://github.com/vaclab/BiasAnalyzer.git --target /home/hyi/target --upgrade\n",
    "!pip install --upgrade typing-extensions"
   ]
  },
  {
   "cell_type": "code",
   "execution_count": 2,
   "id": "9ce3b87c-0754-4eae-9f85-8210104e2b0b",
   "metadata": {
    "tags": []
   },
   "outputs": [],
   "source": [
    "# append the target folder where HealthDataBias module was installed to PYTHONPATH\n",
    "import sys\n",
    "sys.path.append('/home/hyi/target')"
   ]
  },
  {
   "cell_type": "code",
   "execution_count": 3,
   "id": "729e8803-74f8-4180-aa8b-0e44567f8aeb",
   "metadata": {
    "tags": []
   },
   "outputs": [],
   "source": [
    "from biasanalyzer.api import BIAS"
   ]
  },
  {
   "cell_type": "code",
   "execution_count": 4,
   "id": "548223ed-8948-461e-b9d6-40a0ec7fc89f",
   "metadata": {
    "tags": []
   },
   "outputs": [
    {
     "name": "stdout",
     "output_type": "stream",
     "text": [
      "no configuration file specified. Call set_config(config_file_path) next to specify configurations\n"
     ]
    }
   ],
   "source": [
    "# create an object of BIAS class\n",
    "bias = BIAS()"
   ]
  },
  {
   "cell_type": "code",
   "execution_count": 5,
   "id": "7d440d9f-c7fa-4ef1-ad66-31274ebef4ea",
   "metadata": {
    "tags": []
   },
   "outputs": [
    {
     "name": "stdout",
     "output_type": "stream",
     "text": [
      "configuration specified in /home/hyi/bias/config/config.yaml loaded successfully\n"
     ]
    }
   ],
   "source": [
    "bias.set_config('/home/hyi/bias/config/config.yaml')"
   ]
  },
  {
   "cell_type": "code",
   "execution_count": 6,
   "id": "283156f8-63da-42a5-bbd7-ee2b7719652c",
   "metadata": {
    "tags": []
   },
   "outputs": [
    {
     "name": "stdout",
     "output_type": "stream",
     "text": [
      "Connected to the OMOP CDM database (read-only).\n",
      "Cohort Definition table created.\n",
      "Cohort table created.\n"
     ]
    }
   ],
   "source": [
    "# the configuration file includes root_omop_cdm_database configuration info with an example shown \n",
    "# in https://github.com/hyi/HealthDataBias/blob/main/tests/assets/config/test_config.yaml\n",
    "bias.set_root_omop()"
   ]
  },
  {
   "cell_type": "code",
   "execution_count": 7,
   "id": "a68f3eaf-92fd-49a2-9768-d685d826fd57",
   "metadata": {
    "tags": []
   },
   "outputs": [
    {
     "name": "stdout",
     "output_type": "stream",
     "text": [
      "template_path: /home/hyi/target/biasanalyzer/sql_templates\n",
      "configuration specified in /home/hyi/bias/config/test_cohort_creation_condition_occurrence_config_baseline.yaml loaded successfully\n",
      "Cohort definition inserted successfully.\n",
      "Cohort Young female patients successfully created.\n",
      "cohort created successfully\n",
      "young female patient cohort definition: {'id': 1, 'name': 'Young female patients', 'description': 'Young female patients', 'created_date': datetime.date(2025, 3, 12), 'creation_info': 'WITH ranked_events AS ( SELECT person_id, condition_concept_id, condition_start_date AS event_start_date, condition_end_date AS event_end_date, ROW_NUMBER() OVER ( PARTITION BY person_id, condition_concept_id ORDER BY condition_start_date ASC ) AS event_instance FROM condition_occurrence ), ranked_visits AS ( SELECT person_id, visit_concept_id, visit_start_date AS event_start_date, visit_end_date AS event_end_date, ROW_NUMBER() OVER ( PARTITION BY person_id, visit_concept_id ORDER BY visit_start_date ASC ) AS event_instance FROM visit_occurrence ), condition_qualifying_events AS ( SELECT person_id, condition_start_date as event_start_date, condition_end_date as event_end_date FROM condition_occurrence ), filtered_cohort AS ( SELECT c.person_id, MIN(c.event_start_date) AS cohort_start_date, MAX(c.event_end_date) AS cohort_end_date FROM condition_qualifying_events c JOIN person p ON c.person_id = p.person_id WHERE 1=1 AND p.gender_concept_id = 8532 AND p.year_of_birth >= 2000 AND p.year_of_birth <= 2020 GROUP BY c.person_id ) SELECT * FROM filtered_cohort f', 'created_by': 'system'}\n",
      "The first five patients in the young female patient cohort: [{'subject_id': 8, 'cohort_definition_id': 1, 'cohort_start_date': datetime.date(2020, 3, 11), 'cohort_end_date': None}, {'subject_id': 13, 'cohort_definition_id': 1, 'cohort_start_date': datetime.date(2011, 11, 13), 'cohort_end_date': datetime.date(2020, 3, 22)}, {'subject_id': 14, 'cohort_definition_id': 1, 'cohort_start_date': datetime.date(2015, 4, 20), 'cohort_end_date': datetime.date(2020, 3, 19)}, {'subject_id': 21, 'cohort_definition_id': 1, 'cohort_start_date': datetime.date(2017, 8, 25), 'cohort_end_date': None}, {'subject_id': 25, 'cohort_definition_id': 1, 'cohort_start_date': datetime.date(2007, 4, 3), 'cohort_end_date': None}]\n"
     ]
    }
   ],
   "source": [
    "baseline_cohort = bias.create_cohort('Young female patients', 'Young female patients', '/home/hyi/bias/config/test_cohort_creation_condition_occurrence_config_baseline.yaml', 'system')\n",
    "baseline_cohort_def = baseline_cohort.metadata\n",
    "print(f'young female patient cohort definition: {baseline_cohort_def}')\n",
    "baseline_cohort_data = baseline_cohort.data\n",
    "print(f'The first five patients in the young female patient cohort: {baseline_cohort_data[:5]}')"
   ]
  },
  {
   "cell_type": "code",
   "execution_count": 8,
   "id": "9a52ab5f-57a8-4942-8a03-ec86651e919e",
   "metadata": {
    "tags": []
   },
   "outputs": [
    {
     "name": "stdout",
     "output_type": "stream",
     "text": [
      "Cohort definition inserted successfully.\n",
      "Cohort COVID-19 patients successfully created.\n",
      "cohort created successfully\n",
      "all COVID-19 patient cohort definition: {'id': 2, 'name': 'COVID-19 patients', 'description': 'Patients with COVID-19 condition', 'created_date': datetime.date(2025, 3, 12), 'creation_info': 'SELECT person_id, condition_start_date as cohort_start_date, condition_end_date as cohort_end_date FROM condition_occurrence WHERE condition_concept_id = 37311061', 'created_by': 'system'}\n",
      "The first five patients in the COVID-19 patient cohort: [{'subject_id': 20342, 'cohort_definition_id': 2, 'cohort_start_date': datetime.date(2020, 3, 11), 'cohort_end_date': datetime.date(2020, 4, 3)}, {'subject_id': 20343, 'cohort_definition_id': 2, 'cohort_start_date': datetime.date(2020, 3, 9), 'cohort_end_date': datetime.date(2020, 4, 7)}, {'subject_id': 20344, 'cohort_definition_id': 2, 'cohort_start_date': datetime.date(2020, 3, 11), 'cohort_end_date': datetime.date(2020, 4, 8)}, {'subject_id': 20345, 'cohort_definition_id': 2, 'cohort_start_date': datetime.date(2020, 3, 2), 'cohort_end_date': datetime.date(2020, 3, 19)}, {'subject_id': 20347, 'cohort_definition_id': 2, 'cohort_start_date': datetime.date(2020, 3, 5), 'cohort_end_date': datetime.date(2020, 3, 25)}]\n"
     ]
    }
   ],
   "source": [
    "# create a baseline cohort with all COVID-19 patients\n",
    "baseline_cohort_query = ('SELECT person_id, condition_start_date as cohort_start_date, '\n",
    "                                 'condition_end_date as cohort_end_date '\n",
    "                                 'FROM condition_occurrence '\n",
    "                                 'WHERE condition_concept_id = 37311061')\n",
    "\n",
    "baseline_cohort = bias.create_cohort('COVID-19 patients', 'Patients with COVID-19 condition', baseline_cohort_query, 'system')\n",
    "baseline_cohort_def = baseline_cohort.metadata\n",
    "print(f'all COVID-19 patient cohort definition: {baseline_cohort_def}')\n",
    "baseline_cohort_data = baseline_cohort.data\n",
    "print(f'The first five patients in the COVID-19 patient cohort: {baseline_cohort_data[:5]}')"
   ]
  },
  {
   "cell_type": "code",
   "execution_count": 9,
   "id": "b1415805-b065-40b8-b2cd-6db6f5f9ca41",
   "metadata": {
    "tags": []
   },
   "outputs": [
    {
     "name": "stdout",
     "output_type": "stream",
     "text": [
      "the baseline cohort stats: [{'total_count': 88166, 'earliest_start_date': datetime.date(2020, 1, 14), 'latest_start_date': datetime.date(2020, 3, 31), 'earliest_end_date': datetime.date(2020, 1, 30), 'latest_end_date': datetime.date(2020, 5, 3), 'min_duration_days': 8, 'max_duration_days': 37, 'avg_duration_days': 22.63, 'median_duration': 23, 'stddev_duration': 8.06}]\n",
      "the baseline cohort age stats: [{'total_count': 88166, 'min_age': 0, 'max_age': 111, 'avg_age': 41.6, 'median_age': 41, 'stddev_age': 23.71}]\n",
      "the baseline cohort gender stats: [{'gender': 'male', 'gender_count': 42961, 'probability': 0.49}, {'gender': 'female', 'gender_count': 45205, 'probability': 0.51}]\n",
      "the baseline cohort race stats: [{'race': 'Asian', 'race_count': 6165, 'probability': 0.07}, {'race': 'Other', 'race_count': 511, 'probability': 0.01}, {'race': 'White', 'race_count': 74065, 'probability': 0.84}, {'race': 'Black or African American', 'race_count': 7425, 'probability': 0.08}]\n",
      "the baseline cohort ethnicity stats: [{'ethnicity': 'other', 'ethnicity_count': 88166, 'probability': 1.0}]\n"
     ]
    }
   ],
   "source": [
    "# get stats of the baseline cohort\n",
    "cohort_stats = baseline_cohort.get_stats()\n",
    "print(f'the baseline cohort stats: {cohort_stats}')\n",
    "cohort_age_stats = baseline_cohort.get_stats(\"age\")\n",
    "print(f'the baseline cohort age stats: {cohort_age_stats}')\n",
    "cohort_gender_stats = baseline_cohort.get_stats(\"gender\")\n",
    "print(f'the baseline cohort gender stats: {cohort_gender_stats}')\n",
    "cohort_race_stats = baseline_cohort.get_stats(\"race\")\n",
    "print(f'the baseline cohort race stats: {cohort_race_stats}')\n",
    "cohort_ethnicity_stats = baseline_cohort.get_stats(\"ethnicity\")\n",
    "print(f'the baseline cohort ethnicity stats: {cohort_ethnicity_stats}')"
   ]
  },
  {
   "cell_type": "code",
   "execution_count": 10,
   "id": "d54e39da-6f78-4dc1-91ae-a8c26852582a",
   "metadata": {
    "tags": []
   },
   "outputs": [
    {
     "name": "stdout",
     "output_type": "stream",
     "text": [
      "the baseline cohort age discrete probability distribution: [{'age_bin': '0-10', 'bin_count': 9231, 'probability': 0.1047}, {'age_bin': '11-20', 'bin_count': 10746, 'probability': 0.1219}, {'age_bin': '21-30', 'bin_count': 12377, 'probability': 0.1404}, {'age_bin': '31-40', 'bin_count': 10896, 'probability': 0.1236}, {'age_bin': '41-50', 'bin_count': 11450, 'probability': 0.1299}, {'age_bin': '51-60', 'bin_count': 13081, 'probability': 0.1484}, {'age_bin': '61-70', 'bin_count': 9985, 'probability': 0.1133}, {'age_bin': '71-80', 'bin_count': 5865, 'probability': 0.0665}, {'age_bin': '81-90', 'bin_count': 2810, 'probability': 0.0319}, {'age_bin': '91+', 'bin_count': 1725, 'probability': 0.0196}]\n"
     ]
    }
   ],
   "source": [
    "# get discrete probability distribution of the age variable in the baseline cohort\n",
    "cohort_age_distr = baseline_cohort.get_distributions('age')\n",
    "print(f'the baseline cohort age discrete probability distribution: {cohort_age_distr}')"
   ]
  },
  {
   "cell_type": "code",
   "execution_count": 11,
   "id": "e3f5ace2-6cc4-4940-a067-e1a3fc14e1ce",
   "metadata": {
    "tags": []
   },
   "outputs": [
    {
     "name": "stdout",
     "output_type": "stream",
     "text": [
      "Cohort definition inserted successfully.\n",
      "Cohort Older COVID-19 patients successfully created.\n",
      "cohort created successfully\n",
      "Older COVID-19 patient cohort definition: {'id': 3, 'name': 'Older COVID-19 patients', 'description': 'Patients with COVID-19 condition who are older than 65', 'created_date': datetime.date(2025, 3, 12), 'creation_info': 'SELECT c.person_id, c.condition_start_date as cohort_start_date, c.condition_end_date as cohort_end_date FROM condition_occurrence c JOIN person p ON c.person_id = p.person_id WHERE c.condition_concept_id = 37311061 AND p.year_of_birth < 1955', 'created_by': 'system'}\n",
      "The first five patients in the older COVID-19 patient cohort: [{'subject_id': 20344, 'cohort_definition_id': 3, 'cohort_start_date': datetime.date(2020, 3, 11), 'cohort_end_date': datetime.date(2020, 4, 8)}, {'subject_id': 20352, 'cohort_definition_id': 3, 'cohort_start_date': datetime.date(2020, 3, 5), 'cohort_end_date': datetime.date(2020, 3, 31)}, {'subject_id': 20361, 'cohort_definition_id': 3, 'cohort_start_date': datetime.date(2020, 3, 9), 'cohort_end_date': datetime.date(2020, 4, 2)}, {'subject_id': 20378, 'cohort_definition_id': 3, 'cohort_start_date': datetime.date(2020, 2, 28), 'cohort_end_date': datetime.date(2020, 3, 11)}, {'subject_id': 20381, 'cohort_definition_id': 3, 'cohort_start_date': datetime.date(2020, 3, 12), 'cohort_end_date': datetime.date(2020, 4, 15)}]\n"
     ]
    }
   ],
   "source": [
    "# create a user study cohort with all COVID patients above the age of 65\n",
    "study_cohort_query = ('SELECT c.person_id, c.condition_start_date as cohort_start_date, '\n",
    "                      'c.condition_end_date as cohort_end_date '\n",
    "                      'FROM condition_occurrence c JOIN '\n",
    "                      'person p ON c.person_id = p.person_id '\n",
    "                      'WHERE c.condition_concept_id = 37311061 AND p.year_of_birth < 1955')\n",
    "\n",
    "study_cohort = bias.create_cohort('Older COVID-19 patients', 'Patients with COVID-19 condition who are older than 65', study_cohort_query, 'system')\n",
    "study_cohort_def = study_cohort.metadata\n",
    "print(f'Older COVID-19 patient cohort definition: {study_cohort_def}')\n",
    "study_cohort_data = study_cohort.data\n",
    "print(f'The first five patients in the older COVID-19 patient cohort: {study_cohort_data[:5]}')"
   ]
  },
  {
   "cell_type": "code",
   "execution_count": 12,
   "id": "8be5061b-cfdf-4dc0-9ef8-f18277ab9fbe",
   "metadata": {
    "tags": []
   },
   "outputs": [
    {
     "name": "stdout",
     "output_type": "stream",
     "text": [
      "the user study cohort stats: [{'total_count': 14786, 'earliest_start_date': datetime.date(2020, 1, 20), 'latest_start_date': datetime.date(2020, 3, 29), 'earliest_end_date': datetime.date(2020, 2, 5), 'latest_end_date': datetime.date(2020, 4, 28), 'min_duration_days': 8, 'max_duration_days': 37, 'avg_duration_days': 22.05, 'median_duration': 22, 'stddev_duration': 8.36}]\n",
      "the user study cohort age stats: [{'total_count': 14786, 'min_age': 66, 'max_age': 111, 'avg_age': 77.64, 'median_age': 75, 'stddev_age': 10.4}]\n",
      "the user study gender stats: [{'gender': 'male', 'gender_count': 7321, 'probability': 0.5}, {'gender': 'female', 'gender_count': 7465, 'probability': 0.5}]\n",
      "the user study cohort race stats: [{'race': 'Other', 'race_count': 115, 'probability': 0.01}, {'race': 'Asian', 'race_count': 992, 'probability': 0.07}, {'race': 'White', 'race_count': 12474, 'probability': 0.84}, {'race': 'Black or African American', 'race_count': 1205, 'probability': 0.08}]\n",
      "the user study ethnicity stats: [{'ethnicity': 'other', 'ethnicity_count': 14786, 'probability': 1.0}]\n"
     ]
    }
   ],
   "source": [
    "# get stats and distributions of the user study cohort\n",
    "study_cohort_stats = study_cohort.get_stats()\n",
    "print(f'the user study cohort stats: {study_cohort_stats}')\n",
    "study_cohort_age_stats = study_cohort.get_stats(\"age\")\n",
    "print(f'the user study cohort age stats: {study_cohort_age_stats}')\n",
    "study_cohort_gender_stats = study_cohort.get_stats(\"gender\")\n",
    "print(f'the user study gender stats: {study_cohort_gender_stats}')\n",
    "study_cohort_race_stats = study_cohort.get_stats(\"race\")\n",
    "print(f'the user study cohort race stats: {study_cohort_race_stats}')\n",
    "study_cohort_ethnicity_stats = study_cohort.get_stats(\"ethnicity\")\n",
    "print(f'the user study ethnicity stats: {study_cohort_ethnicity_stats}')"
   ]
  },
  {
   "cell_type": "code",
   "execution_count": 13,
   "id": "c7ad0b7b-21dc-4572-af21-fe1580361999",
   "metadata": {
    "tags": []
   },
   "outputs": [
    {
     "name": "stdout",
     "output_type": "stream",
     "text": [
      "the user study cohort age discrete probability distribution: [{'age_bin': '0-10', 'bin_count': 0, 'probability': 0.0}, {'age_bin': '11-20', 'bin_count': 0, 'probability': 0.0}, {'age_bin': '21-30', 'bin_count': 0, 'probability': 0.0}, {'age_bin': '31-40', 'bin_count': 0, 'probability': 0.0}, {'age_bin': '41-50', 'bin_count': 0, 'probability': 0.0}, {'age_bin': '51-60', 'bin_count': 0, 'probability': 0.0}, {'age_bin': '61-70', 'bin_count': 4386, 'probability': 0.2966}, {'age_bin': '71-80', 'bin_count': 5865, 'probability': 0.3967}, {'age_bin': '81-90', 'bin_count': 2810, 'probability': 0.19}, {'age_bin': '91+', 'bin_count': 1725, 'probability': 0.1167}]\n"
     ]
    }
   ],
   "source": [
    "# get discrete probability distribution of the age variable in the baseline cohort\n",
    "study_cohort_age_distr = study_cohort.get_distributions('age')\n",
    "print(f'the user study cohort age discrete probability distribution: {study_cohort_age_distr}')"
   ]
  },
  {
   "cell_type": "code",
   "execution_count": 14,
   "id": "0d03cf95-3c68-4eee-be41-5482dea68b84",
   "metadata": {
    "tags": []
   },
   "outputs": [
    {
     "name": "stdout",
     "output_type": "stream",
     "text": [
      "[{'age_hellinger_distance': 0.728150848822386}, {'gender_hellinger_distance': 0.5328876752208462}]\n"
     ]
    }
   ],
   "source": [
    "# compare the baseline and user study cohorts\n",
    "result = bias.compare_cohorts(1, 2)\n",
    "print(result)"
   ]
  },
  {
   "cell_type": "code",
   "execution_count": 15,
   "id": "128c7b02-faef-4a35-97a6-c92baa5a37dd",
   "metadata": {},
   "outputs": [
    {
     "name": "stdout",
     "output_type": "stream",
     "text": [
      "Connection to BiasDatabase closed.\n",
      "Connection to the OMOP CDM database closed.\n"
     ]
    }
   ],
   "source": [
    "bias.cleanup()"
   ]
  },
  {
   "cell_type": "code",
   "execution_count": null,
   "id": "7e2bf375-b4fb-4c50-aab9-fff4c1a02a95",
   "metadata": {},
   "outputs": [],
   "source": []
  }
 ],
 "metadata": {
  "kernelspec": {
   "display_name": "Python 3 (ipykernel)",
   "language": "python",
   "name": "python3"
  },
  "language_info": {
   "codemirror_mode": {
    "name": "ipython",
    "version": 3
   },
   "file_extension": ".py",
   "mimetype": "text/x-python",
   "name": "python",
   "nbconvert_exporter": "python",
   "pygments_lexer": "ipython3",
   "version": "3.11.5"
  }
 },
 "nbformat": 4,
 "nbformat_minor": 5
}
