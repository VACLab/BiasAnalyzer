{
 "cells": [
  {
   "cell_type": "code",
   "execution_count": 1,
   "id": "a25ba48a-9e2c-4e1d-9e93-80f7ea3ff3e3",
   "metadata": {
    "tags": []
   },
   "outputs": [
    {
     "name": "stdout",
     "output_type": "stream",
     "text": [
      "Collecting git+https://github.com/vaclab/BiasAnalyzer.git\n",
      "  Cloning https://github.com/vaclab/BiasAnalyzer.git to ./temp/pip-req-build-5rfwe_wl\n",
      "  Running command git clone --filter=blob:none --quiet https://github.com/vaclab/BiasAnalyzer.git /home/hyi/temp/pip-req-build-5rfwe_wl\n",
      "  Resolved https://github.com/vaclab/BiasAnalyzer.git to commit 8709e09238d56d7b3fa7d0b20140cf448045c621\n",
      "  Installing build dependencies ... \u001b[?25ldone\n",
      "\u001b[?25h  Getting requirements to build wheel ... \u001b[?25ldone\n",
      "\u001b[?25h  Preparing metadata (pyproject.toml) ... \u001b[?25ldone\n",
      "\u001b[?25hCollecting duckdb<2.0.0,>=1.1.1 (from BiasAnalyzer==0.1.0)\n",
      "  Obtaining dependency information for duckdb<2.0.0,>=1.1.1 from https://files.pythonhosted.org/packages/bf/56/f627b6fcd4aa34015a15449d852ccb78d7cc6eda654aa20c1d378e99fa76/duckdb-1.1.3-cp311-cp311-manylinux_2_17_x86_64.manylinux2014_x86_64.whl.metadata\n",
      "  Using cached duckdb-1.1.3-cp311-cp311-manylinux_2_17_x86_64.manylinux2014_x86_64.whl.metadata (762 bytes)\n",
      "Collecting duckdb-engine<0.14.0,>=0.13.2 (from BiasAnalyzer==0.1.0)\n",
      "  Obtaining dependency information for duckdb-engine<0.14.0,>=0.13.2 from https://files.pythonhosted.org/packages/5f/81/571c0373978d4e987ec2437bfb16adce6cf3b4a05761a76f1c06e859b668/duckdb_engine-0.13.5-py3-none-any.whl.metadata\n",
      "  Using cached duckdb_engine-0.13.5-py3-none-any.whl.metadata (8.0 kB)\n",
      "Collecting ipytree<0.3.0,>=0.2.2 (from BiasAnalyzer==0.1.0)\n",
      "  Obtaining dependency information for ipytree<0.3.0,>=0.2.2 from https://files.pythonhosted.org/packages/e4/03/35cf1742598d784e96153175233318a2332f71863e55ad1007c9264c1a7a/ipytree-0.2.2-py2.py3-none-any.whl.metadata\n",
      "  Using cached ipytree-0.2.2-py2.py3-none-any.whl.metadata (849 bytes)\n",
      "Collecting ipywidgets<9.0.0,>=8.1.5 (from BiasAnalyzer==0.1.0)\n",
      "  Obtaining dependency information for ipywidgets<9.0.0,>=8.1.5 from https://files.pythonhosted.org/packages/22/2d/9c0b76f2f9cc0ebede1b9371b6f317243028ed60b90705863d493bae622e/ipywidgets-8.1.5-py3-none-any.whl.metadata\n",
      "  Using cached ipywidgets-8.1.5-py3-none-any.whl.metadata (2.3 kB)\n",
      "Collecting numpy==1.24.4 (from BiasAnalyzer==0.1.0)\n",
      "  Obtaining dependency information for numpy==1.24.4 from https://files.pythonhosted.org/packages/22/97/dfb1a31bb46686f09e68ea6ac5c63fdee0d22d7b23b8f3f7ea07712869ef/numpy-1.24.4-cp311-cp311-manylinux_2_17_x86_64.manylinux2014_x86_64.whl.metadata\n",
      "  Using cached numpy-1.24.4-cp311-cp311-manylinux_2_17_x86_64.manylinux2014_x86_64.whl.metadata (5.6 kB)\n",
      "Collecting pandas==2.0.3 (from BiasAnalyzer==0.1.0)\n",
      "  Obtaining dependency information for pandas==2.0.3 from https://files.pythonhosted.org/packages/d0/28/88b81881c056376254618fad622a5e94b5126db8c61157ea1910cd1c040a/pandas-2.0.3-cp311-cp311-manylinux_2_17_x86_64.manylinux2014_x86_64.whl.metadata\n",
      "  Using cached pandas-2.0.3-cp311-cp311-manylinux_2_17_x86_64.manylinux2014_x86_64.whl.metadata (18 kB)\n",
      "Collecting psycopg2<3.0.0,>=2.9.1 (from BiasAnalyzer==0.1.0)\n",
      "  Using cached psycopg2-2.9.10-cp311-cp311-linux_x86_64.whl\n",
      "Collecting pydantic<3.0.0,>=2.9.2 (from BiasAnalyzer==0.1.0)\n",
      "  Obtaining dependency information for pydantic<3.0.0,>=2.9.2 from https://files.pythonhosted.org/packages/df/e4/ba44652d562cbf0bf320e0f3810206149c8a4e99cdbf66da82e97ab53a15/pydantic-2.9.2-py3-none-any.whl.metadata\n",
      "  Using cached pydantic-2.9.2-py3-none-any.whl.metadata (149 kB)\n",
      "Collecting pyyaml<7.0.0,>=6.0.2 (from BiasAnalyzer==0.1.0)\n",
      "  Obtaining dependency information for pyyaml<7.0.0,>=6.0.2 from https://files.pythonhosted.org/packages/75/e4/2c27590dfc9992f73aabbeb9241ae20220bd9452df27483b6e56d3975cc5/PyYAML-6.0.2-cp311-cp311-manylinux_2_17_x86_64.manylinux2014_x86_64.whl.metadata\n",
      "  Using cached PyYAML-6.0.2-cp311-cp311-manylinux_2_17_x86_64.manylinux2014_x86_64.whl.metadata (2.1 kB)\n",
      "Collecting scipy==1.10.1 (from BiasAnalyzer==0.1.0)\n",
      "  Obtaining dependency information for scipy==1.10.1 from https://files.pythonhosted.org/packages/21/cd/fe2d4af234b80dc08c911ce63fdaee5badcdde3e9bcd9a68884580652ef0/scipy-1.10.1-cp311-cp311-manylinux_2_17_x86_64.manylinux2014_x86_64.whl.metadata\n",
      "  Using cached scipy-1.10.1-cp311-cp311-manylinux_2_17_x86_64.manylinux2014_x86_64.whl.metadata (58 kB)\n",
      "Collecting sqlalchemy<3.0.0,>=2.0.35 (from BiasAnalyzer==0.1.0)\n",
      "  Obtaining dependency information for sqlalchemy<3.0.0,>=2.0.35 from https://files.pythonhosted.org/packages/b4/5f/95e0ed74093ac3c0db6acfa944d4d8ac6284ef5e1136b878a327ea1f975a/SQLAlchemy-2.0.36-cp311-cp311-manylinux_2_17_x86_64.manylinux2014_x86_64.whl.metadata\n",
      "  Using cached SQLAlchemy-2.0.36-cp311-cp311-manylinux_2_17_x86_64.manylinux2014_x86_64.whl.metadata (9.7 kB)\n",
      "Collecting python-dateutil>=2.8.2 (from pandas==2.0.3->BiasAnalyzer==0.1.0)\n",
      "  Obtaining dependency information for python-dateutil>=2.8.2 from https://files.pythonhosted.org/packages/ec/57/56b9bcc3c9c6a792fcbaf139543cee77261f3651ca9da0c93f5c1221264b/python_dateutil-2.9.0.post0-py2.py3-none-any.whl.metadata\n",
      "  Using cached python_dateutil-2.9.0.post0-py2.py3-none-any.whl.metadata (8.4 kB)\n",
      "Collecting pytz>=2020.1 (from pandas==2.0.3->BiasAnalyzer==0.1.0)\n",
      "  Obtaining dependency information for pytz>=2020.1 from https://files.pythonhosted.org/packages/11/c3/005fcca25ce078d2cc29fd559379817424e94885510568bc1bc53d7d5846/pytz-2024.2-py2.py3-none-any.whl.metadata\n",
      "  Using cached pytz-2024.2-py2.py3-none-any.whl.metadata (22 kB)\n",
      "Collecting tzdata>=2022.1 (from pandas==2.0.3->BiasAnalyzer==0.1.0)\n",
      "  Obtaining dependency information for tzdata>=2022.1 from https://files.pythonhosted.org/packages/a6/ab/7e5f53c3b9d14972843a647d8d7a853969a58aecc7559cb3267302c94774/tzdata-2024.2-py2.py3-none-any.whl.metadata\n",
      "  Using cached tzdata-2024.2-py2.py3-none-any.whl.metadata (1.4 kB)\n",
      "Collecting packaging>=21 (from duckdb-engine<0.14.0,>=0.13.2->BiasAnalyzer==0.1.0)\n",
      "  Obtaining dependency information for packaging>=21 from https://files.pythonhosted.org/packages/88/ef/eb23f262cca3c0c4eb7ab1933c3b1f03d021f2c48f54763065b6f0e321be/packaging-24.2-py3-none-any.whl.metadata\n",
      "  Using cached packaging-24.2-py3-none-any.whl.metadata (3.2 kB)\n",
      "Collecting comm>=0.1.3 (from ipywidgets<9.0.0,>=8.1.5->BiasAnalyzer==0.1.0)\n",
      "  Obtaining dependency information for comm>=0.1.3 from https://files.pythonhosted.org/packages/e6/75/49e5bfe642f71f272236b5b2d2691cf915a7283cc0ceda56357b61daa538/comm-0.2.2-py3-none-any.whl.metadata\n",
      "  Using cached comm-0.2.2-py3-none-any.whl.metadata (3.7 kB)\n",
      "Collecting ipython>=6.1.0 (from ipywidgets<9.0.0,>=8.1.5->BiasAnalyzer==0.1.0)\n",
      "  Obtaining dependency information for ipython>=6.1.0 from https://files.pythonhosted.org/packages/c5/a5/c15ed187f1b3fac445bb42a2dedd8dec1eee1718b35129242049a13a962f/ipython-8.29.0-py3-none-any.whl.metadata\n",
      "  Using cached ipython-8.29.0-py3-none-any.whl.metadata (5.0 kB)\n",
      "Collecting traitlets>=4.3.1 (from ipywidgets<9.0.0,>=8.1.5->BiasAnalyzer==0.1.0)\n",
      "  Obtaining dependency information for traitlets>=4.3.1 from https://files.pythonhosted.org/packages/00/c0/8f5d070730d7836adc9c9b6408dec68c6ced86b304a9b26a14df072a6e8c/traitlets-5.14.3-py3-none-any.whl.metadata\n",
      "  Using cached traitlets-5.14.3-py3-none-any.whl.metadata (10 kB)\n",
      "Collecting widgetsnbextension~=4.0.12 (from ipywidgets<9.0.0,>=8.1.5->BiasAnalyzer==0.1.0)\n",
      "  Obtaining dependency information for widgetsnbextension~=4.0.12 from https://files.pythonhosted.org/packages/21/02/88b65cc394961a60c43c70517066b6b679738caf78506a5da7b88ffcb643/widgetsnbextension-4.0.13-py3-none-any.whl.metadata\n",
      "  Using cached widgetsnbextension-4.0.13-py3-none-any.whl.metadata (1.6 kB)\n",
      "Collecting jupyterlab-widgets~=3.0.12 (from ipywidgets<9.0.0,>=8.1.5->BiasAnalyzer==0.1.0)\n",
      "  Obtaining dependency information for jupyterlab-widgets~=3.0.12 from https://files.pythonhosted.org/packages/a9/93/858e87edc634d628e5d752ba944c2833133a28fa87bb093e6832ced36a3e/jupyterlab_widgets-3.0.13-py3-none-any.whl.metadata\n",
      "  Using cached jupyterlab_widgets-3.0.13-py3-none-any.whl.metadata (4.1 kB)\n",
      "Collecting annotated-types>=0.6.0 (from pydantic<3.0.0,>=2.9.2->BiasAnalyzer==0.1.0)\n",
      "  Obtaining dependency information for annotated-types>=0.6.0 from https://files.pythonhosted.org/packages/78/b6/6307fbef88d9b5ee7421e68d78a9f162e0da4900bc5f5793f6d3d0e34fb8/annotated_types-0.7.0-py3-none-any.whl.metadata\n",
      "  Using cached annotated_types-0.7.0-py3-none-any.whl.metadata (15 kB)\n",
      "Collecting pydantic-core==2.23.4 (from pydantic<3.0.0,>=2.9.2->BiasAnalyzer==0.1.0)\n",
      "  Obtaining dependency information for pydantic-core==2.23.4 from https://files.pythonhosted.org/packages/44/31/a3899b5ce02c4316865e390107f145089876dff7e1dfc770a231d836aed8/pydantic_core-2.23.4-cp311-cp311-manylinux_2_17_x86_64.manylinux2014_x86_64.whl.metadata\n",
      "  Using cached pydantic_core-2.23.4-cp311-cp311-manylinux_2_17_x86_64.manylinux2014_x86_64.whl.metadata (6.6 kB)\n",
      "Collecting typing-extensions>=4.6.1 (from pydantic<3.0.0,>=2.9.2->BiasAnalyzer==0.1.0)\n",
      "  Obtaining dependency information for typing-extensions>=4.6.1 from https://files.pythonhosted.org/packages/26/9f/ad63fc0248c5379346306f8668cda6e2e2e9c95e01216d2b8ffd9ff037d0/typing_extensions-4.12.2-py3-none-any.whl.metadata\n",
      "  Using cached typing_extensions-4.12.2-py3-none-any.whl.metadata (3.0 kB)\n",
      "Collecting greenlet!=0.4.17 (from sqlalchemy<3.0.0,>=2.0.35->BiasAnalyzer==0.1.0)\n",
      "  Obtaining dependency information for greenlet!=0.4.17 from https://files.pythonhosted.org/packages/f7/4b/1c9695aa24f808e156c8f4813f685d975ca73c000c2a5056c514c64980f6/greenlet-3.1.1-cp311-cp311-manylinux_2_24_x86_64.manylinux_2_28_x86_64.whl.metadata\n",
      "  Using cached greenlet-3.1.1-cp311-cp311-manylinux_2_24_x86_64.manylinux_2_28_x86_64.whl.metadata (3.8 kB)\n",
      "Collecting decorator (from ipython>=6.1.0->ipywidgets<9.0.0,>=8.1.5->BiasAnalyzer==0.1.0)\n",
      "  Obtaining dependency information for decorator from https://files.pythonhosted.org/packages/d5/50/83c593b07763e1161326b3b8c6686f0f4b0f24d5526546bee538c89837d6/decorator-5.1.1-py3-none-any.whl.metadata\n",
      "  Using cached decorator-5.1.1-py3-none-any.whl.metadata (4.0 kB)\n",
      "Collecting jedi>=0.16 (from ipython>=6.1.0->ipywidgets<9.0.0,>=8.1.5->BiasAnalyzer==0.1.0)\n",
      "  Obtaining dependency information for jedi>=0.16 from https://files.pythonhosted.org/packages/c0/5a/9cac0c82afec3d09ccd97c8b6502d48f165f9124db81b4bcb90b4af974ee/jedi-0.19.2-py2.py3-none-any.whl.metadata\n",
      "  Using cached jedi-0.19.2-py2.py3-none-any.whl.metadata (22 kB)\n",
      "Collecting matplotlib-inline (from ipython>=6.1.0->ipywidgets<9.0.0,>=8.1.5->BiasAnalyzer==0.1.0)\n",
      "  Obtaining dependency information for matplotlib-inline from https://files.pythonhosted.org/packages/8f/8e/9ad090d3553c280a8060fbf6e24dc1c0c29704ee7d1c372f0c174aa59285/matplotlib_inline-0.1.7-py3-none-any.whl.metadata\n",
      "  Using cached matplotlib_inline-0.1.7-py3-none-any.whl.metadata (3.9 kB)\n",
      "Collecting prompt-toolkit<3.1.0,>=3.0.41 (from ipython>=6.1.0->ipywidgets<9.0.0,>=8.1.5->BiasAnalyzer==0.1.0)\n",
      "  Obtaining dependency information for prompt-toolkit<3.1.0,>=3.0.41 from https://files.pythonhosted.org/packages/a9/6a/fd08d94654f7e67c52ca30523a178b3f8ccc4237fce4be90d39c938a831a/prompt_toolkit-3.0.48-py3-none-any.whl.metadata\n",
      "  Using cached prompt_toolkit-3.0.48-py3-none-any.whl.metadata (6.4 kB)\n",
      "Collecting pygments>=2.4.0 (from ipython>=6.1.0->ipywidgets<9.0.0,>=8.1.5->BiasAnalyzer==0.1.0)\n",
      "  Obtaining dependency information for pygments>=2.4.0 from https://files.pythonhosted.org/packages/f7/3f/01c8b82017c199075f8f788d0d906b9ffbbc5a47dc9918a945e13d5a2bda/pygments-2.18.0-py3-none-any.whl.metadata\n",
      "  Using cached pygments-2.18.0-py3-none-any.whl.metadata (2.5 kB)\n",
      "Collecting stack-data (from ipython>=6.1.0->ipywidgets<9.0.0,>=8.1.5->BiasAnalyzer==0.1.0)\n",
      "  Obtaining dependency information for stack-data from https://files.pythonhosted.org/packages/f1/7b/ce1eafaf1a76852e2ec9b22edecf1daa58175c090266e9f6c64afcd81d91/stack_data-0.6.3-py3-none-any.whl.metadata\n",
      "  Using cached stack_data-0.6.3-py3-none-any.whl.metadata (18 kB)\n",
      "Collecting pexpect>4.3 (from ipython>=6.1.0->ipywidgets<9.0.0,>=8.1.5->BiasAnalyzer==0.1.0)\n",
      "  Obtaining dependency information for pexpect>4.3 from https://files.pythonhosted.org/packages/9e/c3/059298687310d527a58bb01f3b1965787ee3b40dce76752eda8b44e9a2c5/pexpect-4.9.0-py2.py3-none-any.whl.metadata\n",
      "  Using cached pexpect-4.9.0-py2.py3-none-any.whl.metadata (2.5 kB)\n",
      "Collecting six>=1.5 (from python-dateutil>=2.8.2->pandas==2.0.3->BiasAnalyzer==0.1.0)\n",
      "  Obtaining dependency information for six>=1.5 from https://files.pythonhosted.org/packages/d9/5a/e7c31adbe875f2abbb91bd84cf2dc52d792b5a01506781dbcf25c91daf11/six-1.16.0-py2.py3-none-any.whl.metadata\n",
      "  Using cached six-1.16.0-py2.py3-none-any.whl.metadata (1.8 kB)\n",
      "Collecting parso<0.9.0,>=0.8.4 (from jedi>=0.16->ipython>=6.1.0->ipywidgets<9.0.0,>=8.1.5->BiasAnalyzer==0.1.0)\n",
      "  Obtaining dependency information for parso<0.9.0,>=0.8.4 from https://files.pythonhosted.org/packages/c6/ac/dac4a63f978e4dcb3c6d3a78c4d8e0192a113d288502a1216950c41b1027/parso-0.8.4-py2.py3-none-any.whl.metadata\n",
      "  Using cached parso-0.8.4-py2.py3-none-any.whl.metadata (7.7 kB)\n",
      "Collecting ptyprocess>=0.5 (from pexpect>4.3->ipython>=6.1.0->ipywidgets<9.0.0,>=8.1.5->BiasAnalyzer==0.1.0)\n",
      "  Obtaining dependency information for ptyprocess>=0.5 from https://files.pythonhosted.org/packages/22/a6/858897256d0deac81a172289110f31629fc4cee19b6f01283303e18c8db3/ptyprocess-0.7.0-py2.py3-none-any.whl.metadata\n",
      "  Using cached ptyprocess-0.7.0-py2.py3-none-any.whl.metadata (1.3 kB)\n",
      "Collecting wcwidth (from prompt-toolkit<3.1.0,>=3.0.41->ipython>=6.1.0->ipywidgets<9.0.0,>=8.1.5->BiasAnalyzer==0.1.0)\n",
      "  Obtaining dependency information for wcwidth from https://files.pythonhosted.org/packages/fd/84/fd2ba7aafacbad3c4201d395674fc6348826569da3c0937e75505ead3528/wcwidth-0.2.13-py2.py3-none-any.whl.metadata\n",
      "  Using cached wcwidth-0.2.13-py2.py3-none-any.whl.metadata (14 kB)\n",
      "Collecting executing>=1.2.0 (from stack-data->ipython>=6.1.0->ipywidgets<9.0.0,>=8.1.5->BiasAnalyzer==0.1.0)\n",
      "  Obtaining dependency information for executing>=1.2.0 from https://files.pythonhosted.org/packages/b5/fd/afcd0496feca3276f509df3dbd5dae726fcc756f1a08d9e25abe1733f962/executing-2.1.0-py2.py3-none-any.whl.metadata\n",
      "  Using cached executing-2.1.0-py2.py3-none-any.whl.metadata (8.9 kB)\n",
      "Collecting asttokens>=2.1.0 (from stack-data->ipython>=6.1.0->ipywidgets<9.0.0,>=8.1.5->BiasAnalyzer==0.1.0)\n",
      "  Obtaining dependency information for asttokens>=2.1.0 from https://files.pythonhosted.org/packages/45/86/4736ac618d82a20d87d2f92ae19441ebc7ac9e7a581d7e58bbe79233b24a/asttokens-2.4.1-py2.py3-none-any.whl.metadata\n",
      "  Using cached asttokens-2.4.1-py2.py3-none-any.whl.metadata (5.2 kB)\n",
      "Collecting pure-eval (from stack-data->ipython>=6.1.0->ipywidgets<9.0.0,>=8.1.5->BiasAnalyzer==0.1.0)\n",
      "  Obtaining dependency information for pure-eval from https://files.pythonhosted.org/packages/8e/37/efad0257dc6e593a18957422533ff0f87ede7c9c6ea010a2177d738fb82f/pure_eval-0.2.3-py3-none-any.whl.metadata\n",
      "  Using cached pure_eval-0.2.3-py3-none-any.whl.metadata (6.3 kB)\n",
      "Using cached numpy-1.24.4-cp311-cp311-manylinux_2_17_x86_64.manylinux2014_x86_64.whl (17.3 MB)\n",
      "Using cached pandas-2.0.3-cp311-cp311-manylinux_2_17_x86_64.manylinux2014_x86_64.whl (12.2 MB)\n",
      "Using cached scipy-1.10.1-cp311-cp311-manylinux_2_17_x86_64.manylinux2014_x86_64.whl (34.1 MB)\n",
      "Using cached duckdb-1.1.3-cp311-cp311-manylinux_2_17_x86_64.manylinux2014_x86_64.whl (20.1 MB)\n",
      "Using cached duckdb_engine-0.13.5-py3-none-any.whl (48 kB)\n",
      "Using cached ipytree-0.2.2-py2.py3-none-any.whl (1.3 MB)\n",
      "Using cached ipywidgets-8.1.5-py3-none-any.whl (139 kB)\n",
      "Using cached pydantic-2.9.2-py3-none-any.whl (434 kB)\n",
      "Using cached pydantic_core-2.23.4-cp311-cp311-manylinux_2_17_x86_64.manylinux2014_x86_64.whl (2.1 MB)\n",
      "Using cached PyYAML-6.0.2-cp311-cp311-manylinux_2_17_x86_64.manylinux2014_x86_64.whl (762 kB)\n",
      "Using cached SQLAlchemy-2.0.36-cp311-cp311-manylinux_2_17_x86_64.manylinux2014_x86_64.whl (3.2 MB)\n",
      "Using cached annotated_types-0.7.0-py3-none-any.whl (13 kB)\n",
      "Using cached comm-0.2.2-py3-none-any.whl (7.2 kB)\n",
      "Using cached greenlet-3.1.1-cp311-cp311-manylinux_2_24_x86_64.manylinux_2_28_x86_64.whl (602 kB)\n",
      "Using cached ipython-8.29.0-py3-none-any.whl (819 kB)\n",
      "Using cached jupyterlab_widgets-3.0.13-py3-none-any.whl (214 kB)\n",
      "Using cached packaging-24.2-py3-none-any.whl (65 kB)\n",
      "Using cached python_dateutil-2.9.0.post0-py2.py3-none-any.whl (229 kB)\n",
      "Using cached pytz-2024.2-py2.py3-none-any.whl (508 kB)\n",
      "Using cached traitlets-5.14.3-py3-none-any.whl (85 kB)\n",
      "Using cached typing_extensions-4.12.2-py3-none-any.whl (37 kB)\n",
      "Using cached tzdata-2024.2-py2.py3-none-any.whl (346 kB)\n",
      "Using cached widgetsnbextension-4.0.13-py3-none-any.whl (2.3 MB)\n",
      "Using cached jedi-0.19.2-py2.py3-none-any.whl (1.6 MB)\n",
      "Using cached pexpect-4.9.0-py2.py3-none-any.whl (63 kB)\n",
      "Using cached prompt_toolkit-3.0.48-py3-none-any.whl (386 kB)\n",
      "Using cached pygments-2.18.0-py3-none-any.whl (1.2 MB)\n",
      "Using cached six-1.16.0-py2.py3-none-any.whl (11 kB)\n",
      "Using cached decorator-5.1.1-py3-none-any.whl (9.1 kB)\n",
      "Using cached matplotlib_inline-0.1.7-py3-none-any.whl (9.9 kB)\n",
      "Using cached stack_data-0.6.3-py3-none-any.whl (24 kB)\n",
      "Using cached asttokens-2.4.1-py2.py3-none-any.whl (27 kB)\n",
      "Using cached executing-2.1.0-py2.py3-none-any.whl (25 kB)\n",
      "Using cached parso-0.8.4-py2.py3-none-any.whl (103 kB)\n",
      "Using cached ptyprocess-0.7.0-py2.py3-none-any.whl (13 kB)\n",
      "Using cached pure_eval-0.2.3-py3-none-any.whl (11 kB)\n",
      "Using cached wcwidth-0.2.13-py2.py3-none-any.whl (34 kB)\n",
      "Building wheels for collected packages: BiasAnalyzer\n",
      "  Building wheel for BiasAnalyzer (pyproject.toml) ... \u001b[?25ldone\n",
      "\u001b[?25h  Created wheel for BiasAnalyzer: filename=biasanalyzer-0.1.0-py3-none-any.whl size=13344 sha256=3716e541b67444c9cbe691d233d3e4b76fd9c634df2bfa5967f87b8f8839f4e9\n",
      "  Stored in directory: /home/hyi/temp/pip-ephem-wheel-cache-kie4iyy6/wheels/25/75/4e/079d96d69cc58148ce31d3d44f858e4db5f689604112dcb7c3\n",
      "Successfully built BiasAnalyzer\n",
      "Installing collected packages: wcwidth, pytz, pure-eval, ptyprocess, widgetsnbextension, tzdata, typing-extensions, traitlets, six, pyyaml, pygments, psycopg2, prompt-toolkit, pexpect, parso, packaging, numpy, jupyterlab-widgets, greenlet, executing, duckdb, decorator, annotated-types, sqlalchemy, scipy, python-dateutil, pydantic-core, matplotlib-inline, jedi, comm, asttokens, stack-data, pydantic, pandas, duckdb-engine, ipython, ipywidgets, ipytree, BiasAnalyzer\n",
      "Successfully installed BiasAnalyzer-0.1.0 annotated-types-0.7.0 asttokens-2.4.1 comm-0.2.2 decorator-5.1.1 duckdb-1.1.3 duckdb-engine-0.13.5 executing-2.1.0 greenlet-3.1.1 ipython-8.29.0 ipytree-0.2.2 ipywidgets-8.1.5 jedi-0.19.2 jupyterlab-widgets-3.0.13 matplotlib-inline-0.1.7 numpy-1.24.4 packaging-24.2 pandas-2.0.3 parso-0.8.4 pexpect-4.9.0 prompt-toolkit-3.0.48 psycopg2-2.9.10 ptyprocess-0.7.0 pure-eval-0.2.3 pydantic-2.9.2 pydantic-core-2.23.4 pygments-2.18.0 python-dateutil-2.9.0.post0 pytz-2024.2 pyyaml-6.0.2 scipy-1.10.1 six-1.16.0 sqlalchemy-2.0.36 stack-data-0.6.3 traitlets-5.14.3 typing-extensions-4.12.2 tzdata-2024.2 wcwidth-0.2.13 widgetsnbextension-4.0.13\n"
     ]
    }
   ],
   "source": [
    "# Have to specify TMPDIR and target in pip install command to work around the kernel crash issue due to \n",
    "# the small ephemeral local storage quota allocated to /tmp which is used by default by pip install\n",
    "!TMPDIR=/home/hyi/temp pip install git+https://github.com/vaclab/BiasAnalyzer.git --target /home/hyi/temp --upgrade"
   ]
  },
  {
   "cell_type": "code",
   "execution_count": 2,
   "id": "9ce3b87c-0754-4eae-9f85-8210104e2b0b",
   "metadata": {
    "tags": []
   },
   "outputs": [],
   "source": [
    "# append the target folder where HealthDataBias module was installed to PYTHONPATH\n",
    "import sys\n",
    "sys.path.append('/home/hyi/temp')\n",
    "import pandas as pd\n",
    "pd.set_option('display.max_rows', None)\n",
    "pd.set_option('display.max_columns', None)\n",
    "pd.set_option('display.width', 1000)\n",
    "import time"
   ]
  },
  {
   "cell_type": "code",
   "execution_count": 3,
   "id": "729e8803-74f8-4180-aa8b-0e44567f8aeb",
   "metadata": {
    "tags": []
   },
   "outputs": [],
   "source": [
    "from biasanalyzer.api import BIAS"
   ]
  },
  {
   "cell_type": "code",
   "execution_count": 4,
   "id": "548223ed-8948-461e-b9d6-40a0ec7fc89f",
   "metadata": {
    "tags": []
   },
   "outputs": [
    {
     "name": "stdout",
     "output_type": "stream",
     "text": [
      "no configuration file specified. Call set_config(config_file_path) next to specify configurations\n",
      "Cohort Definition table created.\n",
      "Cohort table created.\n"
     ]
    }
   ],
   "source": [
    "# create an object of BIAS class\n",
    "bias = BIAS()"
   ]
  },
  {
   "cell_type": "code",
   "execution_count": 5,
   "id": "7d440d9f-c7fa-4ef1-ad66-31274ebef4ea",
   "metadata": {
    "tags": []
   },
   "outputs": [
    {
     "name": "stdout",
     "output_type": "stream",
     "text": [
      "configuration specified in /home/hyi/bias/config/config.yaml loaded successfully\n"
     ]
    }
   ],
   "source": [
    "bias.set_config('/home/hyi/bias/config/config.yaml')"
   ]
  },
  {
   "cell_type": "code",
   "execution_count": 6,
   "id": "283156f8-63da-42a5-bbd7-ee2b7719652c",
   "metadata": {
    "tags": []
   },
   "outputs": [
    {
     "name": "stdout",
     "output_type": "stream",
     "text": [
      "Connected to the OMOP CDM database (read-only).\n"
     ]
    }
   ],
   "source": [
    "# the configuration file includes root_omop_cdm_database configuration info with an example shown \n",
    "# in https://github.com/hyi/HealthDataBias/blob/main/tests/assets/test_config.yaml\n",
    "bias.set_root_omop()"
   ]
  },
  {
   "cell_type": "code",
   "execution_count": 7,
   "id": "7192ab6d-0845-4bcd-acda-f00157d4215d",
   "metadata": {
    "tags": []
   },
   "outputs": [
    {
     "name": "stdout",
     "output_type": "stream",
     "text": [
      "either domain or vocabulary must be set to constrain the number of returned concepts\n",
      "concepts for COVID-19 in Condition domain with SNOMED vocabulary:\n",
      "    concept_id                                       concept_name valid_start_date valid_end_date  domain_id vocabulary_id\n",
      "0      703440  COVID-19 confirmed using clinical diagnostic c...       2020-04-01     2099-12-31  Condition        SNOMED\n",
      "1      703441              COVID-19 confirmed by laboratory test       2020-04-01     2099-12-31  Condition        SNOMED\n",
      "2      703445  Low risk category for developing complication ...       2020-04-01     2099-12-31  Condition        SNOMED\n",
      "3      703446  Moderate risk category for developing complica...       2020-04-01     2099-12-31  Condition        SNOMED\n",
      "4      703447  High risk category for developing complication...       2020-04-01     2099-12-31  Condition        SNOMED\n",
      "5    37310269                                           COVID-19       2020-02-04     2020-10-28  Condition        SNOMED\n",
      "6    37311061                                           COVID-19       2020-01-31     2099-12-31  Condition        SNOMED\n",
      "concepts for COVID-19 in Condition domain:\n",
      "     concept_id                                       concept_name valid_start_date valid_end_date  domain_id   vocabulary_id\n",
      "0       702953                  Emergency use of U07.1 | COVID-19       2020-04-01     2099-12-31  Condition         ICD10CM\n",
      "1       703440  COVID-19 confirmed using clinical diagnostic c...       2020-04-01     2099-12-31  Condition          SNOMED\n",
      "2       703441              COVID-19 confirmed by laboratory test       2020-04-01     2099-12-31  Condition          SNOMED\n",
      "3       703445  Low risk category for developing complication ...       2020-04-01     2099-12-31  Condition          SNOMED\n",
      "4       703446  Moderate risk category for developing complica...       2020-04-01     2099-12-31  Condition          SNOMED\n",
      "5       703447  High risk category for developing complication...       2020-04-01     2099-12-31  Condition          SNOMED\n",
      "6       756023                Acute bronchitis caused by COVID-19       2020-03-18     2021-01-29  Condition  OMOP Extension\n",
      "7       756031                      Bronchitis caused by COVID-19       2020-03-18     2099-12-31  Condition  OMOP Extension\n",
      "8       756039           Respiratory infection caused by COVID-19       2020-03-18     2099-12-31  Condition  OMOP Extension\n",
      "9       756044  Acute respiratory distress syndrome (ARDS) cau...       2020-03-18     2021-01-29  Condition  OMOP Extension\n",
      "10      756061                              Asymptomatic COVID-19       2020-03-18     2021-01-29  Condition  OMOP Extension\n",
      "11      756081  Infection of lower respiratory tract caused by...       2020-03-18     2021-01-29  Condition  OMOP Extension\n",
      "12    37310269                                           COVID-19       2020-02-04     2020-10-28  Condition          SNOMED\n",
      "13    37311061                                           COVID-19       2020-01-31     2099-12-31  Condition          SNOMED\n",
      "concepts for COVID-19 in SNOMED vocabulary:\n",
      "     concept_id                                       concept_name valid_start_date valid_end_date    domain_id vocabulary_id\n",
      "0       703420  COVID-19 presenting complaints simple referenc...       2020-04-01     2099-12-31     Metadata        SNOMED\n",
      "1       703421        COVID-19 health issues simple reference set       2020-04-01     2099-12-31     Metadata        SNOMED\n",
      "2       703422           COVID-19 procedures simple reference set       2020-04-01     2099-12-31     Metadata        SNOMED\n",
      "3       703423    COVID-19 record extraction simple reference set       2020-04-01     2099-12-31     Metadata        SNOMED\n",
      "4       703424  Provision of advice, assessment or treatment l...       2020-04-01     2099-12-31  Observation        SNOMED\n",
      "5       703429  COVID-19 excluded using clinical diagnostic cr...       2020-04-01     2099-12-31  Observation        SNOMED\n",
      "6       703430               COVID-19 excluded by laboratory test       2020-04-01     2099-12-31  Observation        SNOMED\n",
      "7       703431                                  COVID-19 excluded       2020-04-01     2020-10-28  Observation        SNOMED\n",
      "8       703440  COVID-19 confirmed using clinical diagnostic c...       2020-04-01     2099-12-31    Condition        SNOMED\n",
      "9       703441              COVID-19 confirmed by laboratory test       2020-04-01     2099-12-31    Condition        SNOMED\n",
      "10      703442           Assessment using COVID-19 severity scale       2020-04-01     2099-12-31    Procedure        SNOMED\n",
      "11      703443                            COVID-19 severity scale       2020-04-01     2099-12-31  Measurement        SNOMED\n",
      "12      703444                            COVID-19 severity score       2020-04-01     2099-12-31  Measurement        SNOMED\n",
      "13      703445  Low risk category for developing complication ...       2020-04-01     2099-12-31    Condition        SNOMED\n",
      "14      703446  Moderate risk category for developing complica...       2020-04-01     2099-12-31    Condition        SNOMED\n",
      "15      703447  High risk category for developing complication...       2020-04-01     2099-12-31    Condition        SNOMED\n",
      "16     3657496  Provision of advice, assessment or treatment d...       2020-05-13     2099-12-31  Observation        SNOMED\n",
      "17     3657558  COVID-19 test result communication to general ...       2020-06-10     2099-12-31     Metadata        SNOMED\n",
      "18     3657559  COVID-19 test result communication to general ...       2020-06-10     2099-12-31     Metadata        SNOMED\n",
      "19    37310268                                 Suspected COVID-19       2020-02-04     2020-10-28  Observation        SNOMED\n",
      "20    37310269                                           COVID-19       2020-02-04     2020-10-28    Condition        SNOMED\n",
      "21    37311060                                 Suspected COVID-19       2020-01-31     2099-12-31  Observation        SNOMED\n",
      "22    37311061                                           COVID-19       2020-01-31     2099-12-31    Condition        SNOMED\n"
     ]
    }
   ],
   "source": [
    "bias.get_concepts(\"COVID-19\")\n",
    "concepts = bias.get_concepts(\"COVID-19\", \"Condition\", \"SNOMED\")\n",
    "print(f'concepts for COVID-19 in Condition domain with SNOMED vocabulary:\\n {pd.DataFrame(concepts)}')\n",
    "concepts = bias.get_concepts(\"COVID-19\", domain=\"Condition\")\n",
    "print(f'concepts for COVID-19 in Condition domain:\\n {pd.DataFrame(concepts)}')\n",
    "concepts = bias.get_concepts(\"COVID-19\", vocabulary=\"SNOMED\")\n",
    "print(f'concepts for COVID-19 in SNOMED vocabulary:\\n {pd.DataFrame(concepts)}')"
   ]
  },
  {
   "cell_type": "code",
   "execution_count": 8,
   "id": "9a52ab5f-57a8-4942-8a03-ec86651e919e",
   "metadata": {
    "tags": []
   },
   "outputs": [
    {
     "name": "stdout",
     "output_type": "stream",
     "text": [
      "Cohort definition inserted successfully.\n",
      "Cohort Young female COVID-19 patients successfully created.\n",
      "cohort created successfully\n",
      "Young female COVID-19 patient cohort definition: {'id': 1, 'name': 'Young female COVID-19 patients', 'description': 'Female patients with COVID-19 condition under 24 years old', 'created_date': datetime.date(2024, 11, 14), 'creation_info': 'SELECT c.person_id, c.condition_start_date as cohort_start_date, c.condition_end_date as cohort_end_date FROM condition_occurrence c JOIN person p ON c.person_id = p.person_id WHERE c.condition_concept_id = 37311061 AND p.gender_concept_id = 8532 AND p.year_of_birth > 2000', 'created_by': 'system'}\n",
      "The first five patients in the cohort: [{'subject_id': 20342, 'cohort_definition_id': 1, 'cohort_start_date': datetime.date(2020, 3, 11), 'cohort_end_date': datetime.date(2020, 4, 3)}, {'subject_id': 20343, 'cohort_definition_id': 1, 'cohort_start_date': datetime.date(2020, 3, 9), 'cohort_end_date': datetime.date(2020, 4, 7)}, {'subject_id': 20351, 'cohort_definition_id': 1, 'cohort_start_date': datetime.date(2020, 3, 9), 'cohort_end_date': datetime.date(2020, 3, 29)}, {'subject_id': 20353, 'cohort_definition_id': 1, 'cohort_start_date': datetime.date(2020, 3, 8), 'cohort_end_date': datetime.date(2020, 4, 9)}, {'subject_id': 20394, 'cohort_definition_id': 1, 'cohort_start_date': datetime.date(2020, 3, 1), 'cohort_end_date': datetime.date(2020, 3, 25)}]\n"
     ]
    }
   ],
   "source": [
    "# create a cohort with all COVID-19 female patients under 24 years old\n",
    "cohort_query = ('SELECT c.person_id, c.condition_start_date as cohort_start_date, '\n",
    "                             'c.condition_end_date as cohort_end_date '\n",
    "                             'FROM condition_occurrence c JOIN '\n",
    "                             'person p ON c.person_id = p.person_id '\n",
    "                             'WHERE c.condition_concept_id = 37311061 '\n",
    "                             'AND p.gender_concept_id = 8532 AND p.year_of_birth > 2000')\n",
    "\n",
    "cohort_data = bias.create_cohort('Young female COVID-19 patients', 'Female patients with COVID-19 condition under 24 years old', cohort_query, 'system')\n",
    "md = cohort_data.metadata\n",
    "print(f'Young female COVID-19 patient cohort definition: {md}')\n",
    "print(f'The first five patients in the cohort: {cohort_data.data[:5]}')"
   ]
  },
  {
   "cell_type": "code",
   "execution_count": 9,
   "id": "b1415805-b065-40b8-b2cd-6db6f5f9ca41",
   "metadata": {
    "tags": []
   },
   "outputs": [
    {
     "name": "stdout",
     "output_type": "stream",
     "text": [
      "the cohort stats: [{'total_count': 9623, 'earliest_start_date': datetime.date(2020, 1, 18), 'latest_start_date': datetime.date(2020, 3, 30), 'earliest_end_date': datetime.date(2020, 2, 10), 'latest_end_date': datetime.date(2020, 5, 3), 'min_duration_days': 8, 'max_duration_days': 37, 'avg_duration_days': 24.26, 'median_duration': 24, 'stddev_duration': 7.2}]\n",
      "the cohort age stats: [{'total_count': 9623, 'min_age': 0, 'max_age': 19, 'avg_age': 10.39, 'median_age': 11, 'stddev_age': 5.65}]\n",
      "the cohort gender stats: [{'gender': 'female', 'gender_count': 9623, 'probability': 1.0}]\n",
      "the cohort race stats: [{'race': 'Asian', 'race_count': 680, 'probability': 0.07}, {'race': 'Other', 'race_count': 53, 'probability': 0.01}, {'race': 'White', 'race_count': 8081, 'probability': 0.84}, {'race': 'Black or African American', 'race_count': 809, 'probability': 0.08}]\n",
      "the cohort ethnicity stats: [{'ethnicity': 'other', 'ethnicity_count': 9623, 'probability': 1.0}]\n"
     ]
    }
   ],
   "source": [
    "# get stats of the cohocohort\n",
    "cohort_stats = cohort_data.get_stats()\n",
    "print(f'the cohort stats: {cohort_stats}')\n",
    "cohort_age_stats = cohort_data.get_stats(\"age\")\n",
    "print(f'the cohort age stats: {cohort_age_stats}')\n",
    "cohort_gender_stats = cohort_data.get_stats(\"gender\")\n",
    "print(f'the cohort gender stats: {cohort_gender_stats}')\n",
    "cohort_race_stats = cohort_data.get_stats(\"race\")\n",
    "print(f'the cohort race stats: {cohort_race_stats}')\n",
    "cohort_ethnicity_stats = cohort_data.get_stats(\"ethnicity\")\n",
    "print(f'the cohort ethnicity stats: {cohort_ethnicity_stats}')"
   ]
  },
  {
   "cell_type": "code",
   "execution_count": 10,
   "id": "d54e39da-6f78-4dc1-91ae-a8c26852582a",
   "metadata": {
    "tags": []
   },
   "outputs": [
    {
     "name": "stdout",
     "output_type": "stream",
     "text": [
      "the cohort age discrete probability distribution: [{'age_bin': '0-10', 'bin_count': 4744, 'probability': 0.493}, {'age_bin': '11-20', 'bin_count': 4879, 'probability': 0.507}, {'age_bin': '21-30', 'bin_count': 0, 'probability': 0.0}, {'age_bin': '31-40', 'bin_count': 0, 'probability': 0.0}, {'age_bin': '41-50', 'bin_count': 0, 'probability': 0.0}, {'age_bin': '51-60', 'bin_count': 0, 'probability': 0.0}, {'age_bin': '61-70', 'bin_count': 0, 'probability': 0.0}, {'age_bin': '71-80', 'bin_count': 0, 'probability': 0.0}, {'age_bin': '81-90', 'bin_count': 0, 'probability': 0.0}, {'age_bin': '91+', 'bin_count': 0, 'probability': 0.0}]\n"
     ]
    }
   ],
   "source": [
    "# get discrete probability distribution of the age variable in the cohort\n",
    "cohort_age_distr = cohort_data.get_distributions('age')\n",
    "print(f'the cohort age discrete probability distribution: {cohort_age_distr}')"
   ]
  },
  {
   "cell_type": "code",
   "execution_count": 11,
   "id": "c7ad0b7b-21dc-4572-af21-fe1580361999",
   "metadata": {
    "tags": []
   },
   "outputs": [
    {
     "data": {
      "application/vnd.jupyter.widget-view+json": {
       "model_id": "d6855ebb84c042829131cabd5a6dc59d",
       "version_major": 2,
       "version_minor": 0
      },
      "text/plain": [
       "FloatProgress(value=0.0, layout=Layout(width='auto'), style=ProgressStyle(bar_color='black'))"
      ]
     },
     "metadata": {},
     "output_type": "display_data"
    },
    {
     "name": "stdout",
     "output_type": "stream",
     "text": [
      "    concept_id                                       concept_name  count_in_cohort  prevalence\n",
      "0     37311061                                           COVID-19             9623    1.000000\n",
      "1       437663                                              Fever             8161    0.848072\n",
      "2       254761                                              Cough             6223    0.646680\n",
      "3      4289517                                      Loss of taste             4598    0.477814\n",
      "4      4223659                                            Fatigue             3553    0.369220\n",
      "5      4089228                                     Sputum finding             3045    0.316429\n",
      "6       312437                                            Dyspnea             1538    0.159825\n",
      "7       314754                                           Wheezing             1538    0.159825\n",
      "8        77074                                         Joint pain             1351    0.140393\n",
      "9       442752                                        Muscle pain             1351    0.140393\n",
      "10     4147326                                Sore throat symptom             1293    0.134366\n",
      "11      378253                                           Headache             1223    0.127091\n",
      "12      434490                                              Chill             1014    0.105373\n",
      "13      255848                                          Pneumonia              544    0.056531\n",
      "14     4158346                               Respiratory distress              544    0.056531\n",
      "15      437390                                          Hypoxemia              544    0.056531\n",
      "16     4195085                                   Nasal congestion              479    0.049777\n",
      "17     4096715                                   Vomiting symptom              417    0.043334\n",
      "18       31967                                             Nausea              417    0.043334\n",
      "19     4145808                                   Diarrhea symptom              336    0.034916\n",
      "20      319049                          Acute respiratory failure              193    0.020056\n",
      "21    44782746                       Acute deep venous thrombosis              157    0.016315\n",
      "22    45768439                           Acute pulmonary embolism              155    0.016107\n",
      "23    36674642                             Sepsis caused by virus              128    0.013301\n",
      "24    40481087                                    Viral sinusitis              115    0.011951\n",
      "25      372328                                       Otitis media              105    0.010911\n",
      "26     4112343                            Acute viral pharyngitis               74    0.007690\n",
      "27      261687                                         Hemoptysis               62    0.006443\n",
      "28     4080695                    Passive conjunctival congestion               50    0.005196\n",
      "29     4217975                                   Normal pregnancy               48    0.004988\n",
      "30      260139                                   Acute bronchitis               48    0.004988\n",
      "31      320128                             Essential hypertension               42    0.004365\n",
      "32       81151                                    Sprain of ankle               30    0.003118\n",
      "33       28060                          Streptococcal sore throat               26    0.002702\n",
      "34       78272                                    Sprain of wrist               13    0.001351\n",
      "35     4237458                               Fracture of clavicle               12    0.001247\n",
      "36      378001           Concussion with no loss of consciousness               12    0.001247\n",
      "37      257012                                  Chronic sinusitis               11    0.001143\n",
      "38     4059173                                  Fracture of ankle               10    0.001039\n",
      "39      439777                                             Anemia               10    0.001039\n",
      "40    43530652          Chronic intractable migraine without aura               10    0.001039\n",
      "41    40486433                        Perennial allergic rhinitis               10    0.001039\n",
      "42     4055754                                    Impacted molars                9    0.000935\n",
      "43     4051466                                   Childhood asthma                9    0.000935\n",
      "44     4134304                      Fracture subluxation of wrist                9    0.000935\n",
      "45     4084167                            Acute allergic reaction                8    0.000831\n",
      "46     4278672                                Fracture of forearm                8    0.000831\n",
      "47      432545                       Bacterial infectious disease                8    0.000831\n",
      "48     4029498                                   Seizure disorder                7    0.000727\n",
      "49     4283893                                          Sinusitis                7    0.000727\n",
      "50     4294548                          Acute bacterial sinusitis                7    0.000727\n",
      "51     4142905                                    Fracture of rib                7    0.000727\n",
      "52     4048171  Perennial allergic rhinitis with seasonal vari...                6    0.000624\n",
      "53     4218389                            Whiplash injury to neck                6    0.000624\n",
      "54      436096                                       Chronic pain                6    0.000624\n",
      "55     4152936                                Laceration of thigh                5    0.000520\n",
      "56     4120613                      Acquired coagulation disorder                5    0.000520\n",
      "57      133834                                  Atopic dermatitis                5    0.000520\n",
      "58      316139                                      Heart failure                5    0.000520\n",
      "59     4156265                                  Facial laceration                4    0.000416\n",
      "60     4230399                             Closed fracture of hip                4    0.000416\n",
      "61     4296204                             Epidermal burn of skin                3    0.000312\n",
      "62     4280726                         Seasonal allergic rhinitis                3    0.000312\n",
      "63     4109685                                 Laceration of foot                3    0.000312\n",
      "64      440086                   Child attention deficit disorder                3    0.000312\n",
      "65     4311629                         Impaired glucose tolerance                3    0.000312\n",
      "66     4113008                                 Laceration of hand                2    0.000208\n",
      "67     4166224                                Rupture of appendix                2    0.000208\n",
      "68     4208104                                      Drug overdose                2    0.000208\n",
      "69      440448                                       Appendicitis                2    0.000208\n",
      "70      195588                                           Cystitis                2    0.000208\n",
      "71      439393                                      Pre-eclampsia                2    0.000208\n",
      "72      380378                                           Epilepsy                2    0.000208\n",
      "73     4078393                     Miscarriage in first trimester                2    0.000208\n",
      "74     4001336                         Concussion injury of brain                1    0.000104\n",
      "75    40479768               Injury of anterior cruciate ligament                1    0.000104\n",
      "76     4262136                                      Blighted ovum                1    0.000104\n",
      "77     4311280                                    Injury of heart                1    0.000104\n",
      "78    40479422       Injury of medial collateral ligament of knee                1    0.000104\n",
      "79      137613                             Eclampsia in pregnancy                1    0.000104\n",
      "80     4146173   Injury of tendon of the rotator cuff of shoulder                1    0.000104\n",
      "81      375671              Concussion with loss of consciousness                1    0.000104\n",
      "82    40318618                               Complete miscarriage                1    0.000104\n",
      "83     4155034                              Laceration of forearm                1    0.000104\n",
      "84     4296205                             Partial thickness burn                1    0.000104\n",
      "85     4195694                Acute respiratory distress syndrome                1    0.000104\n",
      "86     4035415                           Tear of meniscus of knee                1    0.000104\n",
      "87     4149245                         Rupture of patellar tendon                1    0.000104\n",
      "the time taken to get cohort concept stats is 6.003104209899902s\n"
     ]
    }
   ],
   "source": [
    "# get cohort concept prevalance\n",
    "t1 = time.time()\n",
    "cohort_concepts = cohort_data.get_concept_stats()\n",
    "print(pd.DataFrame(cohort_concepts[\"condition_occurrence\"]))\n",
    "print(f'the time taken to get cohort concept stats is {time.time() - t1}s')"
   ]
  },
  {
   "cell_type": "code",
   "execution_count": 12,
   "id": "128c7b02-faef-4a35-97a6-c92baa5a37dd",
   "metadata": {},
   "outputs": [
    {
     "name": "stdout",
     "output_type": "stream",
     "text": [
      "Connection to BiasDatabase closed.\n",
      "Connection to the OMOP CDM database closed.\n"
     ]
    }
   ],
   "source": [
    "bias.cleanup()"
   ]
  },
  {
   "cell_type": "code",
   "execution_count": null,
   "id": "7e2bf375-b4fb-4c50-aab9-fff4c1a02a95",
   "metadata": {},
   "outputs": [],
   "source": []
  }
 ],
 "metadata": {
  "kernelspec": {
   "display_name": "Python 3 (ipykernel)",
   "language": "python",
   "name": "python3"
  },
  "language_info": {
   "codemirror_mode": {
    "name": "ipython",
    "version": 3
   },
   "file_extension": ".py",
   "mimetype": "text/x-python",
   "name": "python",
   "nbconvert_exporter": "python",
   "pygments_lexer": "ipython3",
   "version": "3.11.5"
  }
 },
 "nbformat": 4,
 "nbformat_minor": 5
}
